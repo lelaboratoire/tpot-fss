{
 "cells": [
  {
   "cell_type": "code",
   "execution_count": 1,
   "metadata": {},
   "outputs": [],
   "source": [
    "from tpot import TPOTClassifier\n",
    "from sklearn.model_selection import train_test_split, cross_val_score\n",
    "# from tpot.config.classifier_nn import classifier_config_nn\n",
    "from itertools import combinations\n",
    "\n",
    "from sklearn.pipeline import make_pipeline\n",
    "from tpot.config import classifier_config_dict_light\n",
    "from sklearn.neighbors import KNeighborsClassifier\n",
    "from sklearn.datasets import load_digits\n",
    "import os\n",
    "import os.path\n",
    "\n",
    "import pandas as pd\n",
    "import numpy as np\n",
    "\n"
   ]
  },
  {
   "cell_type": "code",
   "execution_count": 2,
   "metadata": {},
   "outputs": [],
   "source": [
    "personal_config = classifier_config_dict_light\n",
    "# personal_config['tpot.builtins.DatasetSelector'] = {\n",
    "#     'subset_dir': ['/Users/ttle/tpotDataSel/biofilterKeggIndex/'],\n",
    "#     'sel_subset_fname': ['Allograft_rejection.csv', 'Antifolate_resistance.csv', 'Arachidonic_acid_metabolism.csv']\n",
    "# }\n",
    "\n",
    "subset_file = 'subsets.csv'\n",
    "# subset_files = list(combinations(range(3), 2))\n",
    "subset_files = [0,1]\n",
    "personal_config['tpot.builtins.DatasetSelector'] = {\n",
    "    'subset_list': [subset_file],\n",
    "    'sel_subset': range(19)\n",
    "}\n",
    "\n",
    "#tpot_data = pd.read_csv('/home/manduchi/mainEffectAnalysisComparisons/breastcancer_phs000147.v3.p1/data_processed_fixref_cglformat.txt', sep=\"\\t\")\n",
    "tpot_data = pd.read_csv('simulatedGenex.csv')\n",
    "# tpot_data = pd.read_csv('/Users/ttle/tpotDataSel/breastCancerSmaller10000.csv')\n",
    "\n",
    "\n"
   ]
  },
  {
   "cell_type": "code",
   "execution_count": 3,
   "metadata": {},
   "outputs": [
    {
     "name": "stdout",
     "output_type": "stream",
     "text": [
      "4999\n",
      "(200, 4999)\n"
     ]
    }
   ],
   "source": [
    "Xdata = tpot_data.loc[:, tpot_data.columns != 'class']\n",
    "Xdata = Xdata.drop(Xdata.columns[0], axis=1)\n",
    "Ydata = tpot_data['class']\n",
    "\n",
    "subset_df = pd.read_csv(subset_file)\n",
    "all_features = \";\".join(subset_df['Features'].tolist())\n",
    "\n",
    "uniq_features = set(all_features.split(';')) # unique features in all subsets\n",
    "overlap_features = list(uniq_features.intersection(set(list(Xdata.columns.values))))\n",
    "print(len(overlap_features)) # number of overlapped features in Xdata\n",
    "\n",
    "X_subset = Xdata[overlap_features]\n",
    "print(X_subset.shape)"
   ]
  },
  {
   "cell_type": "code",
   "execution_count": 4,
   "metadata": {},
   "outputs": [
    {
     "data": {
      "application/vnd.jupyter.widget-view+json": {
       "model_id": "5cc3642a31d24de1afde761cea74f744",
       "version_major": 2,
       "version_minor": 0
      },
      "text/plain": [
       "HBox(children=(IntProgress(value=0, description='Optimization Progress', max=10100), HTML(value='')))"
      ]
     },
     "metadata": {},
     "output_type": "display_data"
    },
    {
     "name": "stdout",
     "output_type": "stream",
     "text": [
      "Generation 1 - Current best internal CV score: 0.5736002966258806\n",
      "Generation 2 - Current best internal CV score: 0.5736002966258806\n",
      "Generation 3 - Current best internal CV score: 0.5736002966258806\n",
      "Generation 4 - Current best internal CV score: 0.5742454579162032\n",
      "Generation 5 - Current best internal CV score: 0.6324805339265851\n",
      "Generation 6 - Current best internal CV score: 0.6324805339265851\n",
      "Generation 7 - Current best internal CV score: 0.6324805339265851\n",
      "Generation 8 - Current best internal CV score: 0.6402817945865775\n",
      "Generation 9 - Current best internal CV score: 0.6402817945865775\n",
      "Generation 10 - Current best internal CV score: 0.6524805339265851\n",
      "Generation 11 - Current best internal CV score: 0.6524805339265851\n",
      "Generation 12 - Current best internal CV score: 0.6524805339265851\n",
      "Generation 13 - Current best internal CV score: 0.6524805339265851\n",
      "Generation 14 - Current best internal CV score: 0.652695587690026\n",
      "Generation 15 - Current best internal CV score: 0.652695587690026\n",
      "Generation 16 - Current best internal CV score: 0.6596514645902855\n",
      "Generation 17 - Current best internal CV score: 0.6596514645902855\n",
      "Generation 18 - Current best internal CV score: 0.6596514645902855\n",
      "Generation 19 - Current best internal CV score: 0.6596514645902855\n",
      "Generation 20 - Current best internal CV score: 0.6656284760845383\n",
      "Generation 21 - Current best internal CV score: 0.6656284760845383\n",
      "Generation 22 - Current best internal CV score: 0.6656284760845383\n",
      "Generation 23 - Current best internal CV score: 0.6793919169447534\n",
      "Generation 24 - Current best internal CV score: 0.6793919169447534\n",
      "Generation 25 - Current best internal CV score: 0.6793919169447534\n",
      "Generation 26 - Current best internal CV score: 0.6793919169447534\n",
      "Generation 27 - Current best internal CV score: 0.6793919169447534\n",
      "Generation 28 - Current best internal CV score: 0.7061030774935113\n",
      "Generation 29 - Current best internal CV score: 0.7061030774935113\n",
      "Generation 30 - Current best internal CV score: 0.7061030774935113\n",
      "Generation 31 - Current best internal CV score: 0.7061030774935113\n",
      "Generation 32 - Current best internal CV score: 0.7076084538375973\n",
      "Generation 33 - Current best internal CV score: 0.7076084538375973\n",
      "Generation 34 - Current best internal CV score: 0.7076084538375973\n",
      "Generation 35 - Current best internal CV score: 0.7076084538375973\n",
      "Generation 36 - Current best internal CV score: 0.7076084538375973\n",
      "Generation 37 - Current best internal CV score: 0.7076084538375973\n",
      "Generation 38 - Current best internal CV score: 0.7118946978123841\n",
      "Generation 39 - Current best internal CV score: 0.7118946978123841\n",
      "Generation 40 - Current best internal CV score: 0.7118946978123841\n",
      "Generation 41 - Current best internal CV score: 0.7118946978123841\n",
      "Generation 42 - Current best internal CV score: 0.7118946978123841\n",
      "Generation 43 - Current best internal CV score: 0.7118946978123841\n",
      "Generation 44 - Current best internal CV score: 0.7118946978123841\n",
      "Generation 45 - Current best internal CV score: 0.7118946978123841\n",
      "Generation 46 - Current best internal CV score: 0.7118946978123841\n",
      "Generation 47 - Current best internal CV score: 0.7118946978123841\n",
      "Generation 48 - Current best internal CV score: 0.7118946978123841\n",
      "\n",
      "The optimized pipeline was not improved after evaluating 10 more generations. Will end the optimization process.\n",
      "\n",
      "TPOT closed prematurely. Will use the current best pipeline.\n",
      "\n",
      "Best pipeline: DecisionTreeClassifier(FeatureAgglomeration(SelectPercentile(DatasetSelector(input_matrix, sel_subset=0, subset_list=subsets.csv), percentile=75), affinity=l2, linkage=complete), criterion=entropy, max_depth=9, min_samples_leaf=1, min_samples_split=4)\n",
      "0.54\n"
     ]
    },
    {
     "data": {
      "text/plain": [
       "True"
      ]
     },
     "execution_count": 4,
     "metadata": {},
     "output_type": "execute_result"
    }
   ],
   "source": [
    "# BUG X_train, X_test, y_train, y_test = train_test_split(Xdata.values, Ydata.values,\n",
    "                                                    #train_size=0.75, test_size=0.25)\n",
    "    \n",
    "X_train, X_test, y_train, y_test = train_test_split(X_subset, Ydata,\n",
    "                                                    train_size=0.75, test_size=0.25)\n",
    "\n",
    "del Xdata\n",
    "del X_subset\n",
    "del Ydata\n",
    "del tpot_data\n",
    "\n",
    "\n",
    "tpot = TPOTClassifier(generations=100, config_dict=personal_config, early_stop=10, memory='auto',\n",
    "                      population_size=100, verbosity=2, n_jobs=1,\n",
    "                      template='DatasetSelector-Selector-Transformer-Classifier')\n",
    "tpot.fit(X_train, y_train)\n",
    "print(tpot.score(X_test, y_test))\n",
    "\n",
    "tpot.export('tpot_light_sim_genex_pipeline.py')\n"
   ]
  },
  {
   "cell_type": "code",
   "execution_count": null,
   "metadata": {},
   "outputs": [],
   "source": []
  }
 ],
 "metadata": {
  "kernelspec": {
   "display_name": "Python 3",
   "language": "python",
   "name": "python3"
  },
  "language_info": {
   "codemirror_mode": {
    "name": "ipython",
    "version": 3
   },
   "file_extension": ".py",
   "mimetype": "text/x-python",
   "name": "python",
   "nbconvert_exporter": "python",
   "pygments_lexer": "ipython3",
   "version": "3.6.5"
  }
 },
 "nbformat": 4,
 "nbformat_minor": 2
}
