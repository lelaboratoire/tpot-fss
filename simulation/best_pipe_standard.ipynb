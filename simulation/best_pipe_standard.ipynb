{
 "cells": [
  {
   "cell_type": "code",
   "execution_count": 1,
   "metadata": {},
   "outputs": [],
   "source": [
    "import numpy as np\n",
    "import pandas as pd\n",
    "from sklearn.kernel_approximation import RBFSampler\n",
    "from sklearn.model_selection import train_test_split\n",
    "from sklearn.pipeline import make_pipeline\n",
    "from xgboost import XGBClassifier\n",
    "from sklearn import metrics\n",
    "from tpot import TPOTClassifier"
   ]
  },
  {
   "cell_type": "code",
   "execution_count": 2,
   "metadata": {},
   "outputs": [],
   "source": [
    "# NOTE: Make sure that the class is labeled 'target' in the data file\n",
    "# tpot_data = pd.read_csv('PATH/TO/DATA/FILE', sep='COLUMN_SEPARATOR', dtype=np.float64)\n",
    "tpot_data = pd.read_csv('simulatedGenex.csv', index_col=0, header=0)\n",
    "tpot_data =tpot_data.astype(np.float64)\n",
    "features = tpot_data.drop('class', axis=1)\n",
    "training_features, testing_features, training_target, testing_target = \\\n",
    "            train_test_split(features, tpot_data['class'], random_state=1618)\n",
    "\n",
    "# Average CV score on the training set was:0.728\n",
    "exported_pipeline = make_pipeline(\n",
    "    RBFSampler(gamma=0.2),\n",
    "    XGBClassifier(learning_rate=0.1, max_depth=2, min_child_weight=6, n_estimators=100, nthread=1, subsample=0.9500000000000001)\n",
    ")"
   ]
  },
  {
   "cell_type": "code",
   "execution_count": 3,
   "metadata": {
    "scrolled": true
   },
   "outputs": [
    {
     "data": {
      "text/plain": [
       "Pipeline(memory=None,\n",
       "     steps=[('rbfsampler', RBFSampler(gamma=0.2, n_components=100, random_state=1618)), ('xgbclassifier', XGBClassifier(base_score=0.5, booster='gbtree', colsample_bylevel=1,\n",
       "       colsample_bytree=1, gamma=0, learning_rate=0.1, max_delta_step=0,\n",
       "       max_depth=2, min_child_weight=6, missing=None, n_e...=0, reg_lambda=1, scale_pos_weight=1, seed=None,\n",
       "       silent=True, subsample=0.9500000000000001))])"
      ]
     },
     "execution_count": 3,
     "metadata": {},
     "output_type": "execute_result"
    }
   ],
   "source": [
    "tpot_obj= TPOTClassifier()\n",
    "tpot_obj._set_param_recursive(exported_pipeline.steps, 'random_state', 1618)\n",
    "exported_pipeline.fit(training_features, training_target)"
   ]
  },
  {
   "cell_type": "code",
   "execution_count": 4,
   "metadata": {
    "scrolled": false
   },
   "outputs": [],
   "source": [
    "# print(exported_pipeline.steps[-1][1].feat_list)\n",
    "# exported_pipeline.steps[-1][1].feature_importances_\n",
    "# feat_imp = pd.DataFrame({'feat': exported_pipeline.steps[0][1].feat_list, \n",
    "#             'score': exported_pipeline.steps[-1][1].feature_importances_})\n",
    "# feat_imp.to_csv(\"featureImpTPOTStand.csv\")"
   ]
  },
  {
   "cell_type": "code",
   "execution_count": 5,
   "metadata": {},
   "outputs": [
    {
     "data": {
      "text/plain": [
       "array([[0.35124522, 0.6487548 ],\n",
       "       [0.5990188 , 0.4009812 ],\n",
       "       [0.67077464, 0.32922536],\n",
       "       [0.16664416, 0.83335584],\n",
       "       [0.44365013, 0.5563499 ],\n",
       "       [0.47675008, 0.5232499 ],\n",
       "       [0.6705998 , 0.32940015],\n",
       "       [0.50640136, 0.49359864],\n",
       "       [0.37945485, 0.62054515],\n",
       "       [0.7802849 , 0.21971509],\n",
       "       [0.31384468, 0.6861553 ],\n",
       "       [0.6321698 , 0.36783022],\n",
       "       [0.31908715, 0.68091285],\n",
       "       [0.38846594, 0.61153406],\n",
       "       [0.6273544 , 0.37264565],\n",
       "       [0.70583844, 0.29416156],\n",
       "       [0.26752096, 0.73247904],\n",
       "       [0.12197167, 0.87802833],\n",
       "       [0.5822952 , 0.4177048 ],\n",
       "       [0.4141314 , 0.5858686 ],\n",
       "       [0.52744734, 0.4725527 ],\n",
       "       [0.43562955, 0.56437045],\n",
       "       [0.47876137, 0.5212386 ],\n",
       "       [0.6425054 , 0.35749462],\n",
       "       [0.6661116 , 0.3338884 ],\n",
       "       [0.08308607, 0.9169139 ],\n",
       "       [0.2147739 , 0.7852261 ],\n",
       "       [0.19074613, 0.8092539 ],\n",
       "       [0.6547303 , 0.34526965],\n",
       "       [0.6884652 , 0.31153482],\n",
       "       [0.66809404, 0.331906  ],\n",
       "       [0.49873263, 0.5012674 ],\n",
       "       [0.28635854, 0.71364146],\n",
       "       [0.4638204 , 0.5361796 ],\n",
       "       [0.43212503, 0.56787497],\n",
       "       [0.3353356 , 0.6646644 ],\n",
       "       [0.4169348 , 0.5830652 ],\n",
       "       [0.7040014 , 0.29599854],\n",
       "       [0.58529913, 0.4147009 ],\n",
       "       [0.39306873, 0.60693127],\n",
       "       [0.1990962 , 0.8009038 ],\n",
       "       [0.5604423 , 0.4395577 ],\n",
       "       [0.82396245, 0.17603755],\n",
       "       [0.06565046, 0.93434954],\n",
       "       [0.48684102, 0.513159  ],\n",
       "       [0.2864715 , 0.7135285 ],\n",
       "       [0.11227423, 0.8877258 ],\n",
       "       [0.75161093, 0.24838908],\n",
       "       [0.804827  , 0.19517305],\n",
       "       [0.772678  , 0.22732197]], dtype=float32)"
      ]
     },
     "execution_count": 5,
     "metadata": {},
     "output_type": "execute_result"
    }
   ],
   "source": [
    "results = exported_pipeline.predict_proba(testing_features)\n",
    "results"
   ]
  },
  {
   "cell_type": "code",
   "execution_count": 6,
   "metadata": {},
   "outputs": [],
   "source": [
    "pd.DataFrame({'y':testing_target, 'ypred':results[:,1]}).to_csv(\"predictionsTPOTStand.csv\", index=False)"
   ]
  },
  {
   "cell_type": "code",
   "execution_count": 7,
   "metadata": {},
   "outputs": [
    {
     "data": {
      "text/plain": [
       "0.577922077922078"
      ]
     },
     "execution_count": 7,
     "metadata": {},
     "output_type": "execute_result"
    }
   ],
   "source": [
    "fpr, tpr, thresholds = metrics.roc_curve(testing_target, results[:,1])\n",
    "metrics.auc(fpr, tpr)"
   ]
  }
 ],
 "metadata": {
  "kernelspec": {
   "display_name": "Python 3",
   "language": "python",
   "name": "python3"
  },
  "language_info": {
   "codemirror_mode": {
    "name": "ipython",
    "version": 3
   },
   "file_extension": ".py",
   "mimetype": "text/x-python",
   "name": "python",
   "nbconvert_exporter": "python",
   "pygments_lexer": "ipython3",
   "version": "3.6.7"
  }
 },
 "nbformat": 4,
 "nbformat_minor": 2
}
