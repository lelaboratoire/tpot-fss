{
 "cells": [
  {
   "cell_type": "code",
   "execution_count": 13,
   "metadata": {},
   "outputs": [],
   "source": [
    "import numpy as np\n",
    "import pandas as pd\n",
    "from sklearn.ensemble import ExtraTreesClassifier\n",
    "from sklearn.kernel_approximation import Nystroem\n",
    "from sklearn.model_selection import train_test_split\n",
    "from sklearn.ensemble import GradientBoostingClassifier\n",
    "from sklearn.pipeline import make_pipeline\n",
    "from tpot.builtins import DatasetSelector\n",
    "from sklearn import metrics\n",
    "from tpot import TPOTClassifier"
   ]
  },
  {
   "cell_type": "code",
   "execution_count": 14,
   "metadata": {},
   "outputs": [],
   "source": [
    "# NOTE: Make sure that the class is labeled 'target' in the data file\n",
    "# tpot_data = pd.read_csv('PATH/TO/DATA/FILE', sep='COLUMN_SEPARATOR', dtype=np.float64)\n",
    "# tpot_data = pd.read_csv('simulatedGenex.csv', index_col=0, header=0)\n",
    "# tpot_data =tpot_data.astype(np.float64)\n",
    "# tpot_data = tpot_data.drop(tpot_data.columns[0], axis=1)\n",
    "tpot_data = pd.read_csv('simulatedGenex.csv')\n",
    "Xdata = tpot_data.loc[:, tpot_data.columns != 'class']\n",
    "Xdata = Xdata.drop(Xdata.columns[0], axis=1)\n",
    "Ydata = tpot_data['class']\n",
    "\n",
    "# features = tpot_data.drop('class', axis=1)\n",
    "features = Xdata\n",
    "training_features, testing_features, training_target, testing_target = \\\n",
    "            train_test_split(features, tpot_data['class'], random_state=1618, train_size=0.75, test_size=0.25)\n",
    "\n",
    "# Average CV score on the training set was:0.7882832777159806\n",
    "# exported_pipeline = make_pipeline(\n",
    "#     DatasetSelector(sel_subset=0, subset_list=\"subsets.csv\"),\n",
    "#     Nystroem(gamma=1.0, kernel=\"linear\", n_components=8),\n",
    "#     ExtraTreesClassifier(bootstrap=False, criterion=\"gini\", max_features=0.9000000000000001, min_samples_leaf=3, min_samples_split=3, n_estimators=100)\n",
    "# )\n",
    "\n",
    "exported_pipeline = make_pipeline(\n",
    "    DatasetSelector(sel_subset=0, subset_list=\"subsets.csv\"),\n",
    "    Nystroem(gamma=0.8500000000000001, kernel=\"linear\", n_components=7),\n",
    "    GradientBoostingClassifier(learning_rate=0.5, max_depth=3, max_features=0.5, min_samples_leaf=4, min_samples_split=6, n_estimators=100, subsample=0.5)\n",
    ")"
   ]
  },
  {
   "cell_type": "code",
   "execution_count": 15,
   "metadata": {},
   "outputs": [],
   "source": [
    "# training_features.to_csv(\"simdat/Xtrain.csv\", index = False)\n",
    "# testing_features.to_csv(\"simdat/Xtest.csv\", index = False)\n",
    "# training_target.to_csv(\"simdat/ytrain.csv\", index = False)\n",
    "# testing_target.to_csv(\"simdat/ytest.csv\", index = False)"
   ]
  },
  {
   "cell_type": "code",
   "execution_count": 4,
   "metadata": {
    "scrolled": true
   },
   "outputs": [
    {
     "data": {
      "text/plain": [
       "Pipeline(memory=None,\n",
       "     steps=[('datasetselector', DatasetSelector(sel_subset=0, subset_list='subsets.csv')), ('nystroem', Nystroem(coef0=None, degree=None, gamma=0.8500000000000001, kernel='linear',\n",
       "     kernel_params=None, n_components=7, random_state=42)), ('gradientboostingclassifier', GradientBoostingClassifier(criter...    subsample=0.5, tol=0.0001, validation_fraction=0.1,\n",
       "              verbose=0, warm_start=False))])"
      ]
     },
     "execution_count": 4,
     "metadata": {},
     "output_type": "execute_result"
    }
   ],
   "source": [
    "tpot_obj= TPOTClassifier()\n",
    "tpot_obj._set_param_recursive(exported_pipeline.steps, 'random_state', 42)\n",
    "exported_pipeline.fit(training_features, training_target)"
   ]
  },
  {
   "cell_type": "code",
   "execution_count": 5,
   "metadata": {
    "scrolled": true
   },
   "outputs": [
    {
     "data": {
      "text/plain": [
       "array([[40.50729669, 41.22941652, 27.70089311, ..., 37.90519529,\n",
       "        43.45484734, 39.92312012],\n",
       "       [39.56545527, 43.84349688, 30.31950352, ..., 39.47166252,\n",
       "        39.98423539, 48.02010881],\n",
       "       [41.15327175, 37.5759686 , 33.99165089, ..., 37.56229649,\n",
       "        40.20594512, 42.60497186],\n",
       "       ...,\n",
       "       [34.40600659, 34.37979951, 36.95168721, ..., 39.29911117,\n",
       "        35.45443869, 38.62063792],\n",
       "       [44.66662732, 47.49895114, 23.58328011, ..., 37.56471859,\n",
       "        43.32114551, 47.64949449],\n",
       "       [39.44181604, 35.46612351, 26.5480226 , ..., 37.46290617,\n",
       "        37.9011257 , 41.31167556]])"
      ]
     },
     "execution_count": 5,
     "metadata": {},
     "output_type": "execute_result"
    }
   ],
   "source": [
    "myfeats = exported_pipeline.steps[0][1].feat_list\n",
    "subX = training_features.loc[:, myfeats]\n",
    "exported_pipeline.steps[1][1].transform(subX)"
   ]
  },
  {
   "cell_type": "code",
   "execution_count": 6,
   "metadata": {
    "scrolled": false
   },
   "outputs": [
    {
     "data": {
      "text/plain": [
       "207"
      ]
     },
     "execution_count": 6,
     "metadata": {},
     "output_type": "execute_result"
    }
   ],
   "source": [
    "len(exported_pipeline.steps[0][1].feat_list)"
   ]
  },
  {
   "cell_type": "code",
   "execution_count": 7,
   "metadata": {
    "scrolled": false
   },
   "outputs": [
    {
     "data": {
      "text/plain": [
       "array([0.15498023, 0.20081026, 0.14441425, 0.18249907, 0.0558853 ,\n",
       "       0.14060386, 0.12080703])"
      ]
     },
     "execution_count": 7,
     "metadata": {},
     "output_type": "execute_result"
    }
   ],
   "source": [
    "exported_pipeline.steps[-1][1].feature_importances_"
   ]
  },
  {
   "cell_type": "code",
   "execution_count": 8,
   "metadata": {
    "scrolled": true
   },
   "outputs": [],
   "source": [
    "results = exported_pipeline.predict_proba(testing_features)"
   ]
  },
  {
   "cell_type": "code",
   "execution_count": 9,
   "metadata": {},
   "outputs": [],
   "source": [
    "# feat_imp = pd.DataFrame({'feat': exported_pipeline.steps[0][1].feat_list, \n",
    "#             'score': exported_pipeline.steps[-1][1].feature_importances_})\n",
    "# feat_imp.to_csv(\"featureImpBest.csv\")"
   ]
  },
  {
   "cell_type": "code",
   "execution_count": 10,
   "metadata": {},
   "outputs": [],
   "source": [
    "pd.DataFrame({'y':testing_target, 'ypred':results[:,1]}).to_csv(\"predictionsBest.csv\", index=False)"
   ]
  },
  {
   "cell_type": "code",
   "execution_count": 11,
   "metadata": {},
   "outputs": [
    {
     "data": {
      "text/plain": [
       "0.737012987012987"
      ]
     },
     "execution_count": 11,
     "metadata": {},
     "output_type": "execute_result"
    }
   ],
   "source": [
    "fpr, tpr, thresholds = metrics.roc_curve(testing_target, results[:,1])\n",
    "metrics.auc(fpr, tpr)"
   ]
  },
  {
   "cell_type": "code",
   "execution_count": 12,
   "metadata": {},
   "outputs": [
    {
     "data": {
      "text/plain": [
       "0.6"
      ]
     },
     "execution_count": 12,
     "metadata": {},
     "output_type": "execute_result"
    }
   ],
   "source": [
    "exported_pipeline.score(testing_features, testing_target)"
   ]
  },
  {
   "cell_type": "code",
   "execution_count": null,
   "metadata": {},
   "outputs": [],
   "source": []
  }
 ],
 "metadata": {
  "kernelspec": {
   "display_name": "Python 3",
   "language": "python",
   "name": "python3"
  },
  "language_info": {
   "codemirror_mode": {
    "name": "ipython",
    "version": 3
   },
   "file_extension": ".py",
   "mimetype": "text/x-python",
   "name": "python",
   "nbconvert_exporter": "python",
   "pygments_lexer": "ipython3",
   "version": "3.6.7"
  }
 },
 "nbformat": 4,
 "nbformat_minor": 2
}
