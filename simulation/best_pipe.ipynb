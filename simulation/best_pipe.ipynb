{
 "cells": [
  {
   "cell_type": "code",
   "execution_count": 1,
   "metadata": {},
   "outputs": [],
   "source": [
    "import numpy as np\n",
    "import pandas as pd\n",
    "from sklearn.ensemble import ExtraTreesClassifier\n",
    "from sklearn.kernel_approximation import Nystroem\n",
    "from sklearn.model_selection import train_test_split\n",
    "from sklearn.pipeline import make_pipeline\n",
    "from tpot.builtins import DatasetSelector\n",
    "from sklearn import metrics\n",
    "from tpot import TPOTClassifier"
   ]
  },
  {
   "cell_type": "code",
   "execution_count": 2,
   "metadata": {},
   "outputs": [],
   "source": [
    "# NOTE: Make sure that the class is labeled 'target' in the data file\n",
    "# tpot_data = pd.read_csv('PATH/TO/DATA/FILE', sep='COLUMN_SEPARATOR', dtype=np.float64)\n",
    "tpot_data = pd.read_csv('simulatedGenex.csv', index_col=0, header=0)\n",
    "tpot_data =tpot_data.astype(np.float64)\n",
    "features = tpot_data.drop('class', axis=1)\n",
    "training_features, testing_features, training_target, testing_target = \\\n",
    "            train_test_split(features, tpot_data['class'], random_state=1618)\n",
    "\n",
    "# Average CV score on the training set was:0.7882832777159806\n",
    "exported_pipeline = make_pipeline(\n",
    "    DatasetSelector(sel_subset=0, subset_list=\"subsets.csv\"),\n",
    "    Nystroem(gamma=1.0, kernel=\"linear\", n_components=8),\n",
    "    ExtraTreesClassifier(bootstrap=False, criterion=\"gini\", max_features=0.9000000000000001, min_samples_leaf=3, min_samples_split=3, n_estimators=100)\n",
    ")"
   ]
  },
  {
   "cell_type": "code",
   "execution_count": 3,
   "metadata": {},
   "outputs": [],
   "source": [
    "training_features.to_csv(\"simdat/Xtrain.csv\", index = False)\n",
    "testing_features.to_csv(\"simdat/Xtest.csv\", index = False)\n",
    "training_target.to_csv(\"simdat/ytrain.csv\", index = False)\n",
    "testing_target.to_csv(\"simdat/ytest.csv\", index = False)"
   ]
  },
  {
   "cell_type": "code",
   "execution_count": 4,
   "metadata": {
    "scrolled": true
   },
   "outputs": [
    {
     "data": {
      "text/plain": [
       "Pipeline(memory=None,\n",
       "     steps=[('datasetselector', DatasetSelector(sel_subset=0, subset_list='subsets.csv')), ('nystroem', Nystroem(coef0=None, degree=None, gamma=1.0, kernel='linear',\n",
       "     kernel_params=None, n_components=8, random_state=1618)), ('extratreesclassifier', ExtraTreesClassifier(bootstrap=False, class_weight=N...imators=100, n_jobs=1, oob_score=False, random_state=1618,\n",
       "           verbose=0, warm_start=False))])"
      ]
     },
     "execution_count": 4,
     "metadata": {},
     "output_type": "execute_result"
    }
   ],
   "source": [
    "tpot_obj= TPOTClassifier()\n",
    "tpot_obj._set_param_recursive(exported_pipeline.steps, 'random_state', 1618)\n",
    "exported_pipeline.fit(training_features, training_target)"
   ]
  },
  {
   "cell_type": "code",
   "execution_count": 5,
   "metadata": {},
   "outputs": [
    {
     "name": "stdout",
     "output_type": "stream",
     "text": [
      "['simvar142', 'var4500', 'var3883', 'var1912', 'var1059', 'simvar48', 'var4053', 'var235', 'simvar92', 'simvar80', 'var459', 'simvar102', 'var846', 'var3439', 'simvar187', 'var2310', 'var298', 'var1074', 'simvar153', 'var2982', 'var86', 'simvar77', 'simvar121', 'simvar165', 'var3443', 'var392', 'simvar117', 'var1160', 'var610', 'simvar114', 'simvar103', 'simvar163', 'simvar87', 'var3044', 'var967', 'var3784', 'var3858', 'var109', 'simvar89', 'var2632', 'var1692', 'var2150', 'simvar183', 'simvar84', 'simvar128', 'var1173', 'simvar20', 'var4383', 'var1503', 'simvar110', 'var150', 'var3552', 'var4039', 'var352', 'simvar71', 'var4326', 'var4191', 'var2077', 'var343', 'simvar184', 'var1229', 'simvar182', 'var3872', 'var4016', 'var1161', 'simvar2', 'simvar27', 'var668', 'var3234', 'var2658', 'var757', 'simvar10', 'var1272', 'simvar51', 'var2626', 'simvar16', 'simvar81', 'var2954', 'var3134', 'simvar107', 'simvar97', 'simvar129', 'var3214', 'var2937', 'simvar94', 'var2816', 'var3866', 'var4674', 'simvar37', 'var1762', 'simvar56', 'var1319', 'simvar15', 'var3356', 'simvar108', 'var4275', 'var2844', 'simvar123', 'var2235', 'var4260', 'var103', 'simvar34', 'simvar136', 'var1418', 'var1741', 'var3484', 'simvar26', 'var4219', 'simvar63', 'var2185', 'var4115', 'var3814', 'var119', 'var3461', 'var1659', 'var3511', 'var4602', 'simvar60', 'simvar72', 'simvar178', 'var1066', 'var1863', 'simvar141', 'var897', 'var3756', 'var1842', 'var4660', 'simvar168', 'var2267', 'var2814', 'var4469', 'var2320', 'var3548', 'simvar29', 'simvar35', 'var435', 'var2162', 'var4780', 'var2643', 'var2220', 'var3024', 'var991', 'var2366', 'simvar181', 'var1269', 'var896', 'var4734', 'var4099', 'simvar135', 'simvar140', 'var3146', 'simvar75', 'var3832', 'var3630', 'var1462', 'var739', 'simvar93', 'simvar146', 'var2873', 'var3201', 'simvar69', 'simvar161', 'var3293', 'var3802', 'var1559', 'simvar67', 'simvar100', 'var1333', 'simvar144', 'simvar186', 'simvar132', 'var2904', 'simvar152', 'simvar164', 'var4052', 'simvar54', 'var1950', 'var45', 'simvar14', 'simvar105', 'var2138', 'simvar18', 'var2206', 'var4768', 'var3697', 'simvar30', 'var3167', 'var2836', 'var3791', 'var4587', 'simvar61', 'var972', 'var2992', 'var1728', 'var3156', 'var1679', 'simvar76', 'simvar149', 'var1249', 'var3349', 'simvar78', 'var383', 'var2627', 'var752', 'var2743', 'var3108', 'simvar62']\n"
     ]
    }
   ],
   "source": [
    "print(exported_pipeline.steps[0][1].feat_list)"
   ]
  },
  {
   "cell_type": "code",
   "execution_count": 6,
   "metadata": {
    "scrolled": false
   },
   "outputs": [
    {
     "data": {
      "text/plain": [
       "array([0.08637112, 0.08985964, 0.10628944, 0.11987067, 0.06575571,\n",
       "       0.10645718, 0.0899919 , 0.33540434])"
      ]
     },
     "execution_count": 6,
     "metadata": {},
     "output_type": "execute_result"
    }
   ],
   "source": [
    "exported_pipeline.steps[-1][1].feature_importances_"
   ]
  },
  {
   "cell_type": "code",
   "execution_count": 7,
   "metadata": {},
   "outputs": [
    {
     "data": {
      "text/plain": [
       "array([[0.51555952, 0.48444048],\n",
       "       [0.60290476, 0.39709524],\n",
       "       [0.4275873 , 0.5724127 ],\n",
       "       [0.95661111, 0.04338889],\n",
       "       [0.63111905, 0.36888095],\n",
       "       [0.44685714, 0.55314286],\n",
       "       [0.6365    , 0.3635    ],\n",
       "       [0.89761905, 0.10238095],\n",
       "       [0.63214922, 0.36785078],\n",
       "       [0.37829762, 0.62170238],\n",
       "       [0.43470238, 0.56529762],\n",
       "       [0.31940476, 0.68059524],\n",
       "       [0.84292857, 0.15707143],\n",
       "       [0.6245873 , 0.3754127 ],\n",
       "       [0.88305579, 0.11694421],\n",
       "       [0.80098039, 0.19901961],\n",
       "       [0.42366667, 0.57633333],\n",
       "       [0.5866651 , 0.4133349 ],\n",
       "       [0.36025   , 0.63975   ],\n",
       "       [0.42604762, 0.57395238],\n",
       "       [0.50059524, 0.49940476],\n",
       "       [0.63461111, 0.36538889],\n",
       "       [0.19178571, 0.80821429],\n",
       "       [0.82855952, 0.17144048],\n",
       "       [0.53688095, 0.46311905],\n",
       "       [0.30954762, 0.69045238],\n",
       "       [0.59645238, 0.40354762],\n",
       "       [0.67341667, 0.32658333],\n",
       "       [0.44644048, 0.55355952],\n",
       "       [0.59000758, 0.40999242],\n",
       "       [0.46453175, 0.53546825],\n",
       "       [0.85917821, 0.14082179],\n",
       "       [0.84141667, 0.15858333],\n",
       "       [0.33169048, 0.66830952],\n",
       "       [0.90653535, 0.09346465],\n",
       "       [0.58967063, 0.41032937],\n",
       "       [0.54115873, 0.45884127],\n",
       "       [0.86070996, 0.13929004],\n",
       "       [0.58591667, 0.41408333],\n",
       "       [0.33611905, 0.66388095],\n",
       "       [0.61983333, 0.38016667],\n",
       "       [0.39921429, 0.60078571],\n",
       "       [0.18378571, 0.81621429],\n",
       "       [0.37054762, 0.62945238],\n",
       "       [0.4602619 , 0.5397381 ],\n",
       "       [0.2797381 , 0.7202619 ],\n",
       "       [0.3007381 , 0.6992619 ],\n",
       "       [0.25594444, 0.74405556],\n",
       "       [0.31091667, 0.68908333],\n",
       "       [0.3502619 , 0.6497381 ]])"
      ]
     },
     "execution_count": 7,
     "metadata": {},
     "output_type": "execute_result"
    }
   ],
   "source": [
    "results = exported_pipeline.predict_proba(testing_features)\n",
    "results"
   ]
  },
  {
   "cell_type": "code",
   "execution_count": 8,
   "metadata": {},
   "outputs": [
    {
     "ename": "ValueError",
     "evalue": "arrays must all be same length",
     "output_type": "error",
     "traceback": [
      "\u001b[0;31m---------------------------------------------------------------------------\u001b[0m",
      "\u001b[0;31mValueError\u001b[0m                                Traceback (most recent call last)",
      "\u001b[0;32m<ipython-input-8-8d1cf379cc66>\u001b[0m in \u001b[0;36m<module>\u001b[0;34m()\u001b[0m\n\u001b[1;32m      1\u001b[0m feat_imp = pd.DataFrame({'feat': exported_pipeline.steps[0][1].feat_list, \n\u001b[0;32m----> 2\u001b[0;31m             'score': exported_pipeline.steps[-1][1].feature_importances_})\n\u001b[0m",
      "\u001b[0;32m~/anaconda3/envs/tpotDataSel/lib/python3.6/site-packages/pandas/core/frame.py\u001b[0m in \u001b[0;36m__init__\u001b[0;34m(self, data, index, columns, dtype, copy)\u001b[0m\n\u001b[1;32m    346\u001b[0m                                  dtype=dtype, copy=copy)\n\u001b[1;32m    347\u001b[0m         \u001b[0;32melif\u001b[0m \u001b[0misinstance\u001b[0m\u001b[0;34m(\u001b[0m\u001b[0mdata\u001b[0m\u001b[0;34m,\u001b[0m \u001b[0mdict\u001b[0m\u001b[0;34m)\u001b[0m\u001b[0;34m:\u001b[0m\u001b[0;34m\u001b[0m\u001b[0m\n\u001b[0;32m--> 348\u001b[0;31m             \u001b[0mmgr\u001b[0m \u001b[0;34m=\u001b[0m \u001b[0mself\u001b[0m\u001b[0;34m.\u001b[0m\u001b[0m_init_dict\u001b[0m\u001b[0;34m(\u001b[0m\u001b[0mdata\u001b[0m\u001b[0;34m,\u001b[0m \u001b[0mindex\u001b[0m\u001b[0;34m,\u001b[0m \u001b[0mcolumns\u001b[0m\u001b[0;34m,\u001b[0m \u001b[0mdtype\u001b[0m\u001b[0;34m=\u001b[0m\u001b[0mdtype\u001b[0m\u001b[0;34m)\u001b[0m\u001b[0;34m\u001b[0m\u001b[0m\n\u001b[0m\u001b[1;32m    349\u001b[0m         \u001b[0;32melif\u001b[0m \u001b[0misinstance\u001b[0m\u001b[0;34m(\u001b[0m\u001b[0mdata\u001b[0m\u001b[0;34m,\u001b[0m \u001b[0mma\u001b[0m\u001b[0;34m.\u001b[0m\u001b[0mMaskedArray\u001b[0m\u001b[0;34m)\u001b[0m\u001b[0;34m:\u001b[0m\u001b[0;34m\u001b[0m\u001b[0m\n\u001b[1;32m    350\u001b[0m             \u001b[0;32mimport\u001b[0m \u001b[0mnumpy\u001b[0m\u001b[0;34m.\u001b[0m\u001b[0mma\u001b[0m\u001b[0;34m.\u001b[0m\u001b[0mmrecords\u001b[0m \u001b[0;32mas\u001b[0m \u001b[0mmrecords\u001b[0m\u001b[0;34m\u001b[0m\u001b[0m\n",
      "\u001b[0;32m~/anaconda3/envs/tpotDataSel/lib/python3.6/site-packages/pandas/core/frame.py\u001b[0m in \u001b[0;36m_init_dict\u001b[0;34m(self, data, index, columns, dtype)\u001b[0m\n\u001b[1;32m    457\u001b[0m             \u001b[0marrays\u001b[0m \u001b[0;34m=\u001b[0m \u001b[0;34m[\u001b[0m\u001b[0mdata\u001b[0m\u001b[0;34m[\u001b[0m\u001b[0mk\u001b[0m\u001b[0;34m]\u001b[0m \u001b[0;32mfor\u001b[0m \u001b[0mk\u001b[0m \u001b[0;32min\u001b[0m \u001b[0mkeys\u001b[0m\u001b[0;34m]\u001b[0m\u001b[0;34m\u001b[0m\u001b[0m\n\u001b[1;32m    458\u001b[0m \u001b[0;34m\u001b[0m\u001b[0m\n\u001b[0;32m--> 459\u001b[0;31m         \u001b[0;32mreturn\u001b[0m \u001b[0m_arrays_to_mgr\u001b[0m\u001b[0;34m(\u001b[0m\u001b[0marrays\u001b[0m\u001b[0;34m,\u001b[0m \u001b[0mdata_names\u001b[0m\u001b[0;34m,\u001b[0m \u001b[0mindex\u001b[0m\u001b[0;34m,\u001b[0m \u001b[0mcolumns\u001b[0m\u001b[0;34m,\u001b[0m \u001b[0mdtype\u001b[0m\u001b[0;34m=\u001b[0m\u001b[0mdtype\u001b[0m\u001b[0;34m)\u001b[0m\u001b[0;34m\u001b[0m\u001b[0m\n\u001b[0m\u001b[1;32m    460\u001b[0m \u001b[0;34m\u001b[0m\u001b[0m\n\u001b[1;32m    461\u001b[0m     \u001b[0;32mdef\u001b[0m \u001b[0m_init_ndarray\u001b[0m\u001b[0;34m(\u001b[0m\u001b[0mself\u001b[0m\u001b[0;34m,\u001b[0m \u001b[0mvalues\u001b[0m\u001b[0;34m,\u001b[0m \u001b[0mindex\u001b[0m\u001b[0;34m,\u001b[0m \u001b[0mcolumns\u001b[0m\u001b[0;34m,\u001b[0m \u001b[0mdtype\u001b[0m\u001b[0;34m=\u001b[0m\u001b[0;32mNone\u001b[0m\u001b[0;34m,\u001b[0m \u001b[0mcopy\u001b[0m\u001b[0;34m=\u001b[0m\u001b[0;32mFalse\u001b[0m\u001b[0;34m)\u001b[0m\u001b[0;34m:\u001b[0m\u001b[0;34m\u001b[0m\u001b[0m\n",
      "\u001b[0;32m~/anaconda3/envs/tpotDataSel/lib/python3.6/site-packages/pandas/core/frame.py\u001b[0m in \u001b[0;36m_arrays_to_mgr\u001b[0;34m(arrays, arr_names, index, columns, dtype)\u001b[0m\n\u001b[1;32m   7340\u001b[0m     \u001b[0;31m# figure out the index, if necessary\u001b[0m\u001b[0;34m\u001b[0m\u001b[0;34m\u001b[0m\u001b[0m\n\u001b[1;32m   7341\u001b[0m     \u001b[0;32mif\u001b[0m \u001b[0mindex\u001b[0m \u001b[0;32mis\u001b[0m \u001b[0;32mNone\u001b[0m\u001b[0;34m:\u001b[0m\u001b[0;34m\u001b[0m\u001b[0m\n\u001b[0;32m-> 7342\u001b[0;31m         \u001b[0mindex\u001b[0m \u001b[0;34m=\u001b[0m \u001b[0mextract_index\u001b[0m\u001b[0;34m(\u001b[0m\u001b[0marrays\u001b[0m\u001b[0;34m)\u001b[0m\u001b[0;34m\u001b[0m\u001b[0m\n\u001b[0m\u001b[1;32m   7343\u001b[0m \u001b[0;34m\u001b[0m\u001b[0m\n\u001b[1;32m   7344\u001b[0m     \u001b[0;31m# don't force copy because getting jammed in an ndarray anyway\u001b[0m\u001b[0;34m\u001b[0m\u001b[0;34m\u001b[0m\u001b[0m\n",
      "\u001b[0;32m~/anaconda3/envs/tpotDataSel/lib/python3.6/site-packages/pandas/core/frame.py\u001b[0m in \u001b[0;36mextract_index\u001b[0;34m(data)\u001b[0m\n\u001b[1;32m   7386\u001b[0m             \u001b[0mlengths\u001b[0m \u001b[0;34m=\u001b[0m \u001b[0mlist\u001b[0m\u001b[0;34m(\u001b[0m\u001b[0mset\u001b[0m\u001b[0;34m(\u001b[0m\u001b[0mraw_lengths\u001b[0m\u001b[0;34m)\u001b[0m\u001b[0;34m)\u001b[0m\u001b[0;34m\u001b[0m\u001b[0m\n\u001b[1;32m   7387\u001b[0m             \u001b[0;32mif\u001b[0m \u001b[0mlen\u001b[0m\u001b[0;34m(\u001b[0m\u001b[0mlengths\u001b[0m\u001b[0;34m)\u001b[0m \u001b[0;34m>\u001b[0m \u001b[0;36m1\u001b[0m\u001b[0;34m:\u001b[0m\u001b[0;34m\u001b[0m\u001b[0m\n\u001b[0;32m-> 7388\u001b[0;31m                 \u001b[0;32mraise\u001b[0m \u001b[0mValueError\u001b[0m\u001b[0;34m(\u001b[0m\u001b[0;34m'arrays must all be same length'\u001b[0m\u001b[0;34m)\u001b[0m\u001b[0;34m\u001b[0m\u001b[0m\n\u001b[0m\u001b[1;32m   7389\u001b[0m \u001b[0;34m\u001b[0m\u001b[0m\n\u001b[1;32m   7390\u001b[0m             \u001b[0;32mif\u001b[0m \u001b[0mhave_dicts\u001b[0m\u001b[0;34m:\u001b[0m\u001b[0;34m\u001b[0m\u001b[0m\n",
      "\u001b[0;31mValueError\u001b[0m: arrays must all be same length"
     ]
    }
   ],
   "source": [
    "feat_imp = pd.DataFrame({'feat': exported_pipeline.steps[0][1].feat_list, \n",
    "            'score': exported_pipeline.steps[-1][1].feature_importances_})"
   ]
  },
  {
   "cell_type": "code",
   "execution_count": null,
   "metadata": {},
   "outputs": [],
   "source": [
    "feat_imp.to_csv(\"featureImpBest.csv\")"
   ]
  },
  {
   "cell_type": "code",
   "execution_count": null,
   "metadata": {},
   "outputs": [],
   "source": [
    "pd.DataFrame({'y':testing_target, 'ypred':results[:,1]}).to_csv(\"predictionsBest.csv\", index=False)"
   ]
  },
  {
   "cell_type": "code",
   "execution_count": null,
   "metadata": {},
   "outputs": [],
   "source": [
    "fpr, tpr, thresholds = metrics.roc_curve(testing_target, results[:,1])\n",
    "metrics.auc(fpr, tpr)"
   ]
  }
 ],
 "metadata": {
  "kernelspec": {
   "display_name": "Python 3",
   "language": "python",
   "name": "python3"
  },
  "language_info": {
   "codemirror_mode": {
    "name": "ipython",
    "version": 3
   },
   "file_extension": ".py",
   "mimetype": "text/x-python",
   "name": "python",
   "nbconvert_exporter": "python",
   "pygments_lexer": "ipython3",
   "version": "3.6.5"
  }
 },
 "nbformat": 4,
 "nbformat_minor": 2
}
