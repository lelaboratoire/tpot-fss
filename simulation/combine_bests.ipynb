{
 "cells": [
  {
   "cell_type": "code",
   "execution_count": 1,
   "metadata": {},
   "outputs": [],
   "source": [
    "import numpy as np\n",
    "import pandas as pd\n",
    "from sklearn.kernel_approximation import RBFSampler\n",
    "from sklearn.model_selection import train_test_split\n",
    "from sklearn.pipeline import make_pipeline\n",
    "from xgboost import XGBClassifier\n",
    "from sklearn import metrics\n",
    "from tpot import TPOTClassifier\n",
    "from sklearn.model_selection import train_test_split\n",
    "from sklearn.ensemble import ExtraTreesClassifier\n",
    "from sklearn.kernel_approximation import Nystroem\n",
    "from sklearn.ensemble import GradientBoostingClassifier\n",
    "from tpot.builtins import DatasetSelector\n",
    "from sklearn.ensemble import RandomForestClassifier"
   ]
  },
  {
   "cell_type": "code",
   "execution_count": 2,
   "metadata": {},
   "outputs": [],
   "source": [
    "# NOTE: Make sure that the class is labeled 'target' in the data file\n",
    "# tpot_data = pd.read_csv('PATH/TO/DATA/FILE', sep='COLUMN_SEPARATOR', dtype=np.float64)\n",
    "tpot_data = pd.read_csv('simulatedGenex.csv', index_col=False, header=0)\n",
    "tpot_data =tpot_data.astype(np.float64)\n",
    "tpot_data = tpot_data.drop(tpot_data.columns[0], axis=1)\n",
    "\n",
    "features = tpot_data.drop('class', axis=1)\n",
    "training_features, testing_features, training_target, testing_target = \\\n",
    "            train_test_split(features, tpot_data['class'], random_state=1618)\n",
    "\n",
    "# Average CV score on the training set was:0.5854060066740823\n",
    "exported_pipeline_XGB = XGBClassifier(learning_rate=1.0, max_depth=5, min_child_weight=7, \n",
    "                                  n_estimators=100, nthread=1, subsample=0.4)\n",
    "exported_pipeline_DS = make_pipeline(\n",
    "    DatasetSelector(sel_subset=0, subset_list=\"subsets.csv\"),\n",
    "    Nystroem(gamma=0.8500000000000001, kernel=\"linear\", n_components=7),\n",
    "    GradientBoostingClassifier(learning_rate=0.5, max_depth=3, max_features=0.5, min_samples_leaf=4, min_samples_split=6, n_estimators=100, subsample=0.5)\n",
    ")\n",
    "\n",
    "exported_pipeline_TPOT = make_pipeline(\n",
    "    RBFSampler(gamma=0.9),\n",
    "    ExtraTreesClassifier(bootstrap=True, criterion=\"gini\",\n",
    "                         max_features=0.9000000000000001, min_samples_leaf=18, min_samples_split=6, n_estimators=100)\n",
    ")\n",
    "\n",
    "exported_pipeline_RF = RandomForestClassifier(bootstrap=False, criterion=\"gini\", max_features=0.8500000000000001, min_samples_leaf=5, min_samples_split=20, n_estimators=100)\n",
    "\n",
    "tpot_obj= TPOTClassifier()\n",
    "\n",
    "    "
   ]
  },
  {
   "cell_type": "code",
   "execution_count": 3,
   "metadata": {},
   "outputs": [],
   "source": [
    "XGBscores = []\n",
    "DSscores = []\n",
    "TPOTscores = []\n",
    "RFscores = []\n",
    "for seed in range(100):\n",
    "    params = {\"random_state\":seed}\n",
    "    exported_pipeline_XGB.set_params(**params)\n",
    "    exported_pipeline_XGB.fit(training_features, training_target)\n",
    "    score = exported_pipeline_XGB.score(testing_features, testing_target)\n",
    "    XGBscores.append(score)\n",
    "\n",
    "    exported_pipeline_RF.fit(training_features, training_target)\n",
    "    score = exported_pipeline_RF.score(testing_features, testing_target)\n",
    "    RFscores.append(score)\n",
    "    \n",
    "    tpot_obj._set_param_recursive(exported_pipeline_DS.steps, 'random_state', seed)\n",
    "    exported_pipeline_DS.fit(training_features, training_target)\n",
    "    score = exported_pipeline_DS.score(testing_features, testing_target)\n",
    "    DSscores.append(score)\n",
    "    \n",
    "    tpot_obj._set_param_recursive(exported_pipeline_TPOT.steps, 'random_state', seed)\n",
    "    exported_pipeline_TPOT.fit(training_features, training_target)\n",
    "    score = exported_pipeline_TPOT.score(testing_features, testing_target)\n",
    "    TPOTscores.append(score)\n",
    "    \n"
   ]
  },
  {
   "cell_type": "code",
   "execution_count": 4,
   "metadata": {},
   "outputs": [],
   "source": [
    "bestaccu = pd.DataFrame({'Random forest': RFscores, 'XGBoost': XGBscores, 'TPOT': TPOTscores, 'TPOT-DS': DSscores})\n",
    "bestaccu.to_csv('bestAccuracies.csv', index = False)"
   ]
  },
  {
   "cell_type": "code",
   "execution_count": null,
   "metadata": {},
   "outputs": [],
   "source": []
  }
 ],
 "metadata": {
  "kernelspec": {
   "display_name": "Python 3",
   "language": "python",
   "name": "python3"
  },
  "language_info": {
   "codemirror_mode": {
    "name": "ipython",
    "version": 3
   },
   "file_extension": ".py",
   "mimetype": "text/x-python",
   "name": "python",
   "nbconvert_exporter": "python",
   "pygments_lexer": "ipython3",
   "version": "3.6.7"
  }
 },
 "nbformat": 4,
 "nbformat_minor": 2
}
