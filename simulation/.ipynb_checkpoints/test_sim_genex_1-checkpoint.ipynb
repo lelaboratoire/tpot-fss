{
 "cells": [
  {
   "cell_type": "code",
   "execution_count": 1,
   "metadata": {},
   "outputs": [],
   "source": [
    "from tpot import TPOTClassifier\n",
    "from sklearn.model_selection import train_test_split, cross_val_score\n",
    "# from tpot.config.classifier_nn import classifier_config_nn\n",
    "from itertools import combinations\n",
    "\n",
    "from sklearn.pipeline import make_pipeline\n",
    "from tpot.config import classifier_config_dict_light\n",
    "from sklearn.neighbors import KNeighborsClassifier\n",
    "from sklearn.datasets import load_digits\n",
    "import os\n",
    "import os.path\n",
    "\n",
    "import pandas as pd\n",
    "import numpy as np\n",
    "\n"
   ]
  },
  {
   "cell_type": "code",
   "execution_count": 2,
   "metadata": {},
   "outputs": [],
   "source": [
    "personal_config = classifier_config_dict_light\n",
    "# personal_config['tpot.builtins.DatasetSelector'] = {\n",
    "#     'subset_dir': ['/Users/ttle/tpotDataSel/biofilterKeggIndex/'],\n",
    "#     'sel_subset_fname': ['Allograft_rejection.csv', 'Antifolate_resistance.csv', 'Arachidonic_acid_metabolism.csv']\n",
    "# }\n",
    "\n",
    "subset_file = 'subsets.csv'\n",
    "# subset_files = list(combinations(range(3), 2))\n",
    "subset_files = [0,1]\n",
    "personal_config['tpot.builtins.DatasetSelector'] = {\n",
    "    'subset_list': [subset_file],\n",
    "    'sel_subset': range(19)\n",
    "}\n",
    "\n",
    "#tpot_data = pd.read_csv('/home/manduchi/mainEffectAnalysisComparisons/breastcancer_phs000147.v3.p1/data_processed_fixref_cglformat.txt', sep=\"\\t\")\n",
    "tpot_data = pd.read_csv('simulatedGenex.csv')\n",
    "# tpot_data = pd.read_csv('/Users/ttle/tpotDataSel/breastCancerSmaller10000.csv')\n",
    "\n",
    "\n"
   ]
  },
  {
   "cell_type": "code",
   "execution_count": 3,
   "metadata": {},
   "outputs": [
    {
     "name": "stdout",
     "output_type": "stream",
     "text": [
      "4999\n",
      "(200, 4999)\n"
     ]
    }
   ],
   "source": [
    "Xdata = tpot_data.loc[:, tpot_data.columns != 'class']\n",
    "Xdata = Xdata.drop(Xdata.columns[0], axis=1)\n",
    "Ydata = tpot_data['class']\n",
    "\n",
    "subset_df = pd.read_csv(subset_file)\n",
    "all_features = \";\".join(subset_df['Features'].tolist())\n",
    "\n",
    "uniq_features = set(all_features.split(';')) # unique features in all subsets\n",
    "overlap_features = list(uniq_features.intersection(set(list(Xdata.columns.values))))\n",
    "print(len(overlap_features)) # number of overlapped features in Xdata\n",
    "\n",
    "X_subset = Xdata[overlap_features]\n",
    "print(X_subset.shape)"
   ]
  },
  {
   "cell_type": "code",
   "execution_count": null,
   "metadata": {},
   "outputs": [
    {
     "data": {
      "application/vnd.jupyter.widget-view+json": {
       "model_id": "b98cfa7d7bdb466a9c34e53046ec6f4d",
       "version_major": 2,
       "version_minor": 0
      },
      "text/plain": [
       "HBox(children=(IntProgress(value=0, description='Optimization Progress', max=10100), HTML(value='')))"
      ]
     },
     "metadata": {},
     "output_type": "display_data"
    },
    {
     "name": "stdout",
     "output_type": "stream",
     "text": [
      "Generation 1 - Current best internal CV score: 0.5940452354467928\n",
      "Generation 2 - Current best internal CV score: 0.5940452354467928\n"
     ]
    }
   ],
   "source": [
    "# BUG X_train, X_test, y_train, y_test = train_test_split(Xdata.values, Ydata.values,\n",
    "                                                    #train_size=0.75, test_size=0.25)\n",
    "    \n",
    "X_train, X_test, y_train, y_test = train_test_split(X_subset, Ydata,\n",
    "                                                    train_size=0.75, test_size=0.25)\n",
    "\n",
    "del Xdata\n",
    "del X_subset\n",
    "del Ydata\n",
    "del tpot_data\n",
    "\n",
    "\n",
    "tpot = TPOTClassifier(generations=100, config_dict=personal_config, early_stop=10, memory='auto',\n",
    "                      population_size=100, verbosity=2, n_jobs=1,\n",
    "                      template='DatasetSelector-Selector-Transformer-Classifier')\n",
    "tpot.fit(X_train, y_train)\n",
    "print(tpot.score(X_test, y_test))\n",
    "\n",
    "tpot.export('tpot_light_sim_genex_pipeline.py')\n"
   ]
  },
  {
   "cell_type": "code",
   "execution_count": null,
   "metadata": {},
   "outputs": [],
   "source": []
  }
 ],
 "metadata": {
  "kernelspec": {
   "display_name": "Python 3",
   "language": "python",
   "name": "python3"
  },
  "language_info": {
   "codemirror_mode": {
    "name": "ipython",
    "version": 3
   },
   "file_extension": ".py",
   "mimetype": "text/x-python",
   "name": "python",
   "nbconvert_exporter": "python",
   "pygments_lexer": "ipython3",
   "version": "3.6.5"
  }
 },
 "nbformat": 4,
 "nbformat_minor": 2
}
