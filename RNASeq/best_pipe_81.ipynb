{
 "cells": [
  {
   "cell_type": "code",
   "execution_count": 1,
   "metadata": {},
   "outputs": [],
   "source": [
    "import numpy as np\n",
    "import pandas as pd\n",
    "from sklearn.ensemble import ExtraTreesClassifier\n",
    "from sklearn.model_selection import train_test_split\n",
    "from sklearn.pipeline import make_pipeline\n",
    "from sklearn.preprocessing import MaxAbsScaler\n",
    "from tpot.builtins import DatasetSelector\n",
    "from sklearn import metrics\n",
    "from tpot import TPOTClassifier"
   ]
  },
  {
   "cell_type": "code",
   "execution_count": 2,
   "metadata": {},
   "outputs": [],
   "source": [
    "# NOTE: Make sure that the class is labeled 'target' in the data file\n",
    "# tpot_data = pd.read_csv('PATH/TO/DATA/FILE', sep='COLUMN_SEPARATOR', dtype=np.float64)\n",
    "tpot_data = pd.read_csv('rnaSeqMDD.csv', index_col=0, header=0)\n",
    "tpot_data =tpot_data.astype(np.float64)\n",
    "features = tpot_data.drop('phenotype', axis=1)\n",
    "training_features, testing_features, training_target, testing_target = \\\n",
    "            train_test_split(features, tpot_data['phenotype'], random_state=1618)\n",
    "\n",
    "# Average CV score on the training set was:0.7259130434782609\n",
    "exported_pipeline = make_pipeline(\n",
    "    DatasetSelector(sel_subset=4, subset_list=\"module23.csv\"),\n",
    "    MaxAbsScaler(),\n",
    "    ExtraTreesClassifier(bootstrap=True, criterion=\"entropy\", max_features=0.4, min_samples_leaf=3, min_samples_split=3, n_estimators=100)\n",
    ")"
   ]
  },
  {
   "cell_type": "code",
   "execution_count": 3,
   "metadata": {
    "scrolled": true
   },
   "outputs": [
    {
     "data": {
      "text/plain": [
       "Pipeline(memory=None,\n",
       "     steps=[('datasetselector', DatasetSelector(sel_subset=4, subset_list='module23.csv')), ('maxabsscaler', MaxAbsScaler(copy=True)), ('extratreesclassifier', ExtraTreesClassifier(bootstrap=True, class_weight=None, criterion='entropy',\n",
       "           max_depth=None, max_features=0.4, max_leaf_nodes=None,\n",
       "  ...tors=100, n_jobs=None,\n",
       "           oob_score=False, random_state=1618, verbose=0, warm_start=False))])"
      ]
     },
     "execution_count": 3,
     "metadata": {},
     "output_type": "execute_result"
    }
   ],
   "source": [
    "tpot_obj= TPOTClassifier()\n",
    "tpot_obj._set_param_recursive(exported_pipeline.steps, 'random_state', 1618)\n",
    "exported_pipeline.fit(training_features, training_target)"
   ]
  },
  {
   "cell_type": "code",
   "execution_count": 4,
   "metadata": {},
   "outputs": [
    {
     "name": "stdout",
     "output_type": "stream",
     "text": [
      "['S100A1', 'ARHGAP27', 'RPUSD3', 'WARS2', 'CACNB2', 'SPAG4', 'GUCY1B2', 'GLE1', 'WIPI1', 'CFD', 'CARD14', 'PCCA', 'OXR1', 'MMP19', 'CLEC2B', 'LOC100379224', 'SIGLEC16', 'ZNF57', 'KMT2C', 'TCF7L1', 'PPARA', 'DRG1', 'PRPF3', 'TRAF1', 'PCP4L1', 'ZNF552', 'SNRPD2', 'SLC25A25', 'ALG12', 'LOC101927275', 'PIGZ', 'THADA', 'PPM1N', 'ZNF83', 'ANXA6', 'SKIV2L', 'MEGF11', 'CAMK1', 'BAD', 'LOC101927901', 'LOC100129148', 'GALNT10', 'UBTF', 'NDUFAF2', 'RPRD1A', 'MROH6', 'COA5', 'TMEM263', 'TNFAIP8L1', 'DCLRE1C', 'RBM4B', 'RUSC1', 'C19orf68', 'GOLGA8H', 'PDE6C', 'LHX4', 'UTP14A', 'ENTPD3', 'TAC4', 'BSN', 'PGM3', 'LOC102723885', 'CREB1', 'SENCR', 'AQP11', 'STX17', 'CNTRL', 'CALB1', 'CUL4A', 'TFPT', 'NFYC', 'C9orf169', 'FAM103A1', 'HACL1', 'GPM6B', 'ATP5H', 'HEXIM1', 'AKAP5', 'ATG14', 'FAS', 'GNPTG', 'TP53I3', 'TNK1', 'DOT1L', 'CCDC181', 'FKBP4', 'OSGEPL1', 'SNX21', 'MARCH1', 'LYG2', 'CRLF3', 'PRPF38A', 'NT5C2', 'ZNF865', 'LGALS8', 'ZNF407', 'FOXP3', 'TXLNA', 'GALNS', 'DHODH', 'NFE2L3', 'ZNF646', 'ALOX12', 'CLASRP', 'ECT2L', 'ZC3H8', 'EFR3B', 'EML4', 'GZF1', 'MIR3661', 'TRIM7', 'GSTO1', 'SLAMF1', 'AMPH', 'NUDT5', 'DENND4A', 'SEC13', 'PXK', 'TMEM131', 'C11orf42', 'ZNF37BP', 'ZFP69', 'ZNF544', 'SLC26A2', 'BCS1L', 'REEP5', 'FAM184B', 'LOC102723809', 'DDX56', 'PSMD7', 'A2MP1', 'FTSJ3', 'SPRN', 'UHRF1', 'FDPS', 'TMEM217', 'GPR18', 'ICMT', 'COX20', 'ZNF814', 'LENG9', 'UBE2E1', 'COQ6', 'KDELR3', 'TMPRSS9', 'FAM160B2', 'ATP2C2', 'ZNF546', 'CCT6P3', 'MIR635', 'FOXM1', 'TYW1', 'RASGEF1A', 'ZSWIM7', 'LOC729732', 'JAM3', 'SBF1', 'MYO5B', 'TUBB1', 'GNB4', 'HDAC5', 'PPWD1', 'RNF39', 'NR2C2', 'BTBD2', 'FAM13A', 'VPRBP', 'NUDT13', 'TM6SF1', 'RAD17', 'REV3L', 'MCC', 'METTL25', 'RNF113A', 'USP34', 'TMEM221', 'MLLT10P1', 'ARAP1', 'MRS2', 'MSTO1', 'DNAH1', 'LOC101928063', 'PRKX', 'CD160', 'HSPD1', 'FXR2', 'SENP1', 'GPR155', 'POLR2J4', 'FAM86HP', 'GRTP1', 'GINS3', 'SPDYE5', 'TFIP11', 'C12orf73', 'CCDC104', 'FAM98B', 'PPP1R3B', 'B9D2', 'PTPN14', 'AKT1', 'MSL1', 'EGLN1', 'ATAD5', 'PCGF3', 'ERCC6L', 'CERS5', 'LCA5L', 'DPP7', 'MPL', 'ARHGEF26', 'SLC48A1', 'BMP8A', 'ZNF506', 'ITIH2', 'TTPAL', 'C11orf80', 'LOC102724246', 'LOC646471', 'MCTP1', 'ZNHIT3', 'NDUFA2', 'PDHX', 'HECTD1', 'COL4A4', 'C6orf136', 'CD72', 'RUFY3', 'LOC101241902', 'DNAJC17', 'LRRC37A6P', 'PROX2', 'PP7080', 'FOCAD', 'ZNF805', 'EVA1C', 'ROCK2', 'DCDC2B', 'RHOQ', 'RNF149', 'TBC1D8', 'LARS', 'LOC100996385', 'TAF3', 'TMEM259', 'CD48', 'ANAPC15', 'RRP7A', 'C1orf146', 'SAFB', 'C2orf88', 'DARS2', 'PSMD5', 'TMEM139', 'LOC101929767', 'JPX', 'TSC1', 'TACC1', 'GPR137', 'ZNF878', 'PARD6G', 'HMBOX1', 'HSPB9', 'MASP2', 'UTP20', 'VN1R1', 'PLEKHB1', 'INTS4L2', 'SLC13A4', 'GSE1', 'RNF224', 'NREP', 'ZNF790', 'LRRC37A2', 'C17orf53', 'GTF2F1', 'MYO19', 'LRP11', 'ALS2CR12']\n"
     ]
    }
   ],
   "source": [
    "print(exported_pipeline.steps[0][1].feat_list)"
   ]
  },
  {
   "cell_type": "code",
   "execution_count": 5,
   "metadata": {
    "scrolled": false
   },
   "outputs": [
    {
     "data": {
      "text/plain": [
       "array([0.00373921, 0.00166101, 0.01831089, 0.00408702, 0.00249836,\n",
       "       0.00058685, 0.00110793, 0.00131406, 0.00105909, 0.00195426,\n",
       "       0.00499914, 0.00330212, 0.01920895, 0.01571573, 0.01270085,\n",
       "       0.00328586, 0.00449239, 0.00172488, 0.00301095, 0.00420038,\n",
       "       0.00434121, 0.0012803 , 0.00363005, 0.00230586, 0.00678344,\n",
       "       0.001287  , 0.00360235, 0.00159611, 0.00027465, 0.0028394 ,\n",
       "       0.00122492, 0.005076  , 0.00183827, 0.0028213 , 0.00466706,\n",
       "       0.00228003, 0.00486999, 0.00404167, 0.00357327, 0.00294281,\n",
       "       0.00154707, 0.00095279, 0.00204652, 0.00124853, 0.00629682,\n",
       "       0.00962159, 0.00137508, 0.0051312 , 0.00327271, 0.00081084,\n",
       "       0.003017  , 0.00220401, 0.00053113, 0.00564533, 0.00066824,\n",
       "       0.0198139 , 0.00717809, 0.00055361, 0.00789731, 0.00175059,\n",
       "       0.00439174, 0.00281088, 0.00410321, 0.00383826, 0.00777076,\n",
       "       0.00881305, 0.00370055, 0.00255346, 0.00129993, 0.01258795,\n",
       "       0.00274861, 0.00644344, 0.00083281, 0.00333491, 0.00072127,\n",
       "       0.0014706 , 0.01150307, 0.00246804, 0.00335696, 0.00449388,\n",
       "       0.00298701, 0.00316841, 0.0049135 , 0.00277344, 0.00315923,\n",
       "       0.00228304, 0.        , 0.00215102, 0.0031524 , 0.00296757,\n",
       "       0.00037053, 0.0038835 , 0.00051992, 0.00542174, 0.00405555,\n",
       "       0.00195279, 0.00484636, 0.00273621, 0.00161703, 0.00538561,\n",
       "       0.00073534, 0.00226156, 0.00195287, 0.00397542, 0.00153695,\n",
       "       0.00343051, 0.00577652, 0.000263  , 0.00535435, 0.00154897,\n",
       "       0.00103849, 0.00826736, 0.00152916, 0.00893526, 0.00140976,\n",
       "       0.00104799, 0.00065953, 0.00268337, 0.00205133, 0.00231753,\n",
       "       0.        , 0.        , 0.00478277, 0.00085364, 0.00078872,\n",
       "       0.00065513, 0.00328592, 0.00078007, 0.0029887 , 0.00375311,\n",
       "       0.00137263, 0.00432121, 0.00555525, 0.00245844, 0.00062836,\n",
       "       0.0080077 , 0.00297834, 0.00308122, 0.00462684, 0.00262477,\n",
       "       0.00497913, 0.0061608 , 0.00289317, 0.0059748 , 0.        ,\n",
       "       0.00086381, 0.00365254, 0.00080008, 0.00236688, 0.00144372,\n",
       "       0.00394479, 0.02055914, 0.00067384, 0.00385247, 0.        ,\n",
       "       0.00510941, 0.00329476, 0.00264582, 0.00187741, 0.0031211 ,\n",
       "       0.00110808, 0.00320164, 0.00564877, 0.02063573, 0.00300402,\n",
       "       0.01237813, 0.0015166 , 0.00183076, 0.01008182, 0.00248169,\n",
       "       0.00260712, 0.00320646, 0.00729629, 0.00900619, 0.01819972,\n",
       "       0.00231078, 0.00010564, 0.00320551, 0.00030665, 0.00110017,\n",
       "       0.00141865, 0.00163266, 0.00323254, 0.00111647, 0.00369499,\n",
       "       0.00185454, 0.00226867, 0.0033282 , 0.00557979, 0.00183969,\n",
       "       0.00272844, 0.00198561, 0.00323541, 0.        , 0.        ,\n",
       "       0.00221605, 0.0033607 , 0.00396731, 0.00340401, 0.00539615,\n",
       "       0.0024691 , 0.        , 0.00580923, 0.0039125 , 0.00046629,\n",
       "       0.00107084, 0.00055319, 0.00601237, 0.00250641, 0.00213694,\n",
       "       0.00402765, 0.003742  , 0.00192322, 0.00345896, 0.00311798,\n",
       "       0.00226593, 0.00199543, 0.00196192, 0.00321984, 0.00234032,\n",
       "       0.00283307, 0.00243068, 0.00107199, 0.00138757, 0.00166862,\n",
       "       0.00339798, 0.00623686, 0.00205284, 0.0007775 , 0.00220707,\n",
       "       0.00029049, 0.00445405, 0.00613921, 0.00029034, 0.0007294 ,\n",
       "       0.00204149, 0.00408214, 0.0095522 , 0.00474053, 0.00226374,\n",
       "       0.01088532, 0.00206725, 0.00607349, 0.0009145 , 0.00258187,\n",
       "       0.00105732, 0.00368073, 0.00268555, 0.00454026, 0.00254159,\n",
       "       0.00251342, 0.00159054, 0.0161495 , 0.00104466, 0.00256559,\n",
       "       0.00368856, 0.00456006, 0.00193198, 0.00422136, 0.00272397,\n",
       "       0.00265039, 0.00420842, 0.00875262, 0.00416126, 0.00208648,\n",
       "       0.00506992, 0.00285962, 0.00429132, 0.00095961, 0.00151378,\n",
       "       0.00343025, 0.00348472, 0.00762811, 0.0010842 , 0.00470783,\n",
       "       0.0013557 , 0.00254306, 0.00295675, 0.00119091])"
      ]
     },
     "execution_count": 5,
     "metadata": {},
     "output_type": "execute_result"
    }
   ],
   "source": [
    "exported_pipeline.steps[-1][1].feature_importances_"
   ]
  },
  {
   "cell_type": "code",
   "execution_count": 6,
   "metadata": {},
   "outputs": [
    {
     "data": {
      "text/plain": [
       "array([[0.28849206, 0.71150794],\n",
       "       [0.71278571, 0.28721429],\n",
       "       [0.32866667, 0.67133333],\n",
       "       [0.25847619, 0.74152381],\n",
       "       [0.78915476, 0.21084524],\n",
       "       [0.34344048, 0.65655952],\n",
       "       [0.49583333, 0.50416667],\n",
       "       [0.37552417, 0.62447583],\n",
       "       [0.36893254, 0.63106746],\n",
       "       [0.78603175, 0.21396825],\n",
       "       [0.43585714, 0.56414286],\n",
       "       [0.76822222, 0.23177778],\n",
       "       [0.60864286, 0.39135714],\n",
       "       [0.74984091, 0.25015909],\n",
       "       [0.60344048, 0.39655952],\n",
       "       [0.44616667, 0.55383333],\n",
       "       [0.43606385, 0.56393615],\n",
       "       [0.59539286, 0.40460714],\n",
       "       [0.63633333, 0.36366667],\n",
       "       [0.43540909, 0.56459091],\n",
       "       [0.24166667, 0.75833333],\n",
       "       [0.49658333, 0.50341667],\n",
       "       [0.39922619, 0.60077381],\n",
       "       [0.39537229, 0.60462771],\n",
       "       [0.30154365, 0.69845635],\n",
       "       [0.61553175, 0.38446825],\n",
       "       [0.51177778, 0.48822222],\n",
       "       [0.42375758, 0.57624242],\n",
       "       [0.3739329 , 0.6260671 ],\n",
       "       [0.58244048, 0.41755952],\n",
       "       [0.50415368, 0.49584632],\n",
       "       [0.24225   , 0.75775   ],\n",
       "       [0.58370238, 0.41629762],\n",
       "       [0.76369048, 0.23630952],\n",
       "       [0.6327619 , 0.3672381 ],\n",
       "       [0.36138095, 0.63861905],\n",
       "       [0.69683333, 0.30316667],\n",
       "       [0.28562229, 0.71437771],\n",
       "       [0.56591667, 0.43408333],\n",
       "       [0.39684524, 0.60315476]])"
      ]
     },
     "execution_count": 6,
     "metadata": {},
     "output_type": "execute_result"
    }
   ],
   "source": [
    "results = exported_pipeline.predict_proba(testing_features)\n",
    "results"
   ]
  },
  {
   "cell_type": "code",
   "execution_count": 7,
   "metadata": {},
   "outputs": [],
   "source": [
    "feat_imp = pd.DataFrame({'feat': exported_pipeline.steps[0][1].feat_list, \n",
    "            'score': exported_pipeline.steps[-1][1].feature_importances_})"
   ]
  },
  {
   "cell_type": "code",
   "execution_count": 8,
   "metadata": {},
   "outputs": [],
   "source": [
    "feat_imp.to_csv(\"featureImp5.csv\")"
   ]
  },
  {
   "cell_type": "code",
   "execution_count": 9,
   "metadata": {},
   "outputs": [],
   "source": [
    "pd.DataFrame({'y':testing_target, 'ypred':results[:,1]}).to_csv(\"predictions5.csv\", index=False)"
   ]
  },
  {
   "cell_type": "code",
   "execution_count": 10,
   "metadata": {},
   "outputs": [
    {
     "data": {
      "text/plain": [
       "0.7020202020202021"
      ]
     },
     "execution_count": 10,
     "metadata": {},
     "output_type": "execute_result"
    }
   ],
   "source": [
    "fpr, tpr, thresholds = metrics.roc_curve(testing_target, results[:,1])\n",
    "metrics.auc(fpr, tpr)"
   ]
  }
 ],
 "metadata": {
  "kernelspec": {
   "display_name": "Python 3",
   "language": "python",
   "name": "python3"
  },
  "language_info": {
   "codemirror_mode": {
    "name": "ipython",
    "version": 3
   },
   "file_extension": ".py",
   "mimetype": "text/x-python",
   "name": "python",
   "nbconvert_exporter": "python",
   "pygments_lexer": "ipython3",
   "version": "3.6.7"
  }
 },
 "nbformat": 4,
 "nbformat_minor": 2
}
