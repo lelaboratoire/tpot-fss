{
 "cells": [
  {
   "cell_type": "code",
   "execution_count": 1,
   "metadata": {},
   "outputs": [],
   "source": [
    "import numpy as np\n",
    "import pandas as pd\n",
    "from sklearn.ensemble import ExtraTreesClassifier\n",
    "from sklearn.model_selection import train_test_split\n",
    "from sklearn.pipeline import make_pipeline\n",
    "from sklearn.preprocessing import MaxAbsScaler\n",
    "from tpot.builtins import DatasetSelector"
   ]
  },
  {
   "cell_type": "code",
   "execution_count": 2,
   "metadata": {},
   "outputs": [],
   "source": [
    "# NOTE: Make sure that the class is labeled 'target' in the data file\n",
    "# tpot_data = pd.read_csv('PATH/TO/DATA/FILE', sep='COLUMN_SEPARATOR', dtype=np.float64)\n",
    "tpot_data = pd.read_csv('rnaSeqMDD.csv', index_col=0, header=0)\n",
    "tpot_data =tpot_data.astype(np.float64)\n",
    "features = tpot_data.drop('phenotype', axis=1)\n",
    "training_features, testing_features, training_target, testing_target = \\\n",
    "            train_test_split(features, tpot_data['phenotype'], random_state=161803)\n",
    "\n",
    "# Average CV score on the training set was:0.7259130434782609\n",
    "exported_pipeline = make_pipeline(\n",
    "    DatasetSelector(sel_subset=4, subset_list=\"module23.csv\"),\n",
    "    MaxAbsScaler(),\n",
    "    ExtraTreesClassifier(bootstrap=True, criterion=\"entropy\", max_features=0.4, min_samples_leaf=3, min_samples_split=3, n_estimators=100)\n",
    ")"
   ]
  },
  {
   "cell_type": "code",
   "execution_count": 3,
   "metadata": {
    "scrolled": true
   },
   "outputs": [
    {
     "data": {
      "text/plain": [
       "Pipeline(memory=None,\n",
       "     steps=[('datasetselector', DatasetSelector(sel_subset=4, subset_list='module23.csv')), ('maxabsscaler', MaxAbsScaler(copy=True)), ('extratreesclassifier', ExtraTreesClassifier(bootstrap=True, class_weight=None, criterion='entropy',\n",
       "           max_depth=None, max_features=0.4, max_leaf_nodes=None,\n",
       "  ...imators=100, n_jobs=1,\n",
       "           oob_score=False, random_state=None, verbose=0, warm_start=False))])"
      ]
     },
     "execution_count": 3,
     "metadata": {},
     "output_type": "execute_result"
    }
   ],
   "source": [
    "exported_pipeline.fit(training_features, training_target)"
   ]
  },
  {
   "cell_type": "code",
   "execution_count": 8,
   "metadata": {},
   "outputs": [
    {
     "name": "stdout",
     "output_type": "stream",
     "text": [
      "['LOC101241902', 'ATAD5', 'HMBOX1', 'PTPN14', 'MIR3661', 'FDPS', 'MPL', 'CARD14', 'SNX21', 'TP53I3', 'NFYC', 'CAMK1', 'LOC101929767', 'HSPD1', 'PPP1R3B', 'UTP14A', 'USP34', 'FAM98B', 'TMEM217', 'MCTP1', 'CALB1', 'ZNF865', 'TAC4', 'ZNF407', 'TNFAIP8L1', 'NUDT5', 'SIGLEC16', 'DARS2', 'GUCY1B2', 'RUSC1', 'UBE2E1', 'ZC3H8', 'SPAG4', 'ITIH2', 'ZNF552', 'PIGZ', 'PSMD5', 'MIR635', 'TFIP11', 'RAD17', 'DCDC2B', 'PGM3', 'THADA', 'TBC1D8', 'CFD', 'MSL1', 'FOXM1', 'PRPF38A', 'UHRF1', 'FAM13A', 'MRS2', 'NT5C2', 'PPM1N', 'DCLRE1C', 'METTL25', 'RNF113A', 'CLEC2B', 'LOC646471', 'DPP7', 'CCDC104', 'MLLT10P1', 'GPR137', 'MYO19', 'ZNF57', 'PCP4L1', 'ALS2CR12', 'MARCH1', 'SBF1', 'UBTF', 'FKBP4', 'MMP19', 'REV3L', 'FAM86HP', 'HECTD1', 'LGALS8', 'SLC25A25', 'LENG9', 'ZNF506', 'ENTPD3', 'NUDT13', 'BMP8A', 'RRP7A', 'CD160', 'LOC100129148', 'TCF7L1', 'CNTRL', 'B9D2', 'BAD', 'NDUFA2', 'RNF149', 'PDE6C', 'OSGEPL1', 'PCCA', 'LOC102724246', 'MSTO1', 'NREP', 'TAF3', 'KDELR3', 'GPR18', 'NFE2L3', 'PLEKHB1', 'EGLN1', 'LRP11', 'ALOX12', 'DHODH', 'BSN', 'REEP5', 'C12orf73', 'FAS', 'SPRN', 'MCC', 'ATP5H', 'COX20', 'TUBB1', 'ZNF646', 'BTBD2', 'DENND4A', 'TMEM259', 'AMPH', 'GRTP1', 'EVA1C', 'LOC101928063', 'TRIM7', 'INTS4L2', 'SLC26A2', 'TYW1', 'ROCK2', 'LOC102723809', 'C17orf53', 'SAFB', 'LRRC37A6P', 'ANAPC15', 'LCA5L', 'CD72', 'EFR3B', 'S100A1', 'C2orf88', 'SENP1', 'LOC729732', 'C6orf136', 'DRG1', 'TXLNA', 'MYO5B', 'ZNF83', 'PROX2', 'CUL4A', 'TFPT', 'ICMT', 'COL4A4', 'FAM103A1', 'SLC13A4', 'RHOQ', 'LOC102723885', 'TTPAL', 'ZNF805', 'ERCC6L', 'CD48', 'ZNF814', 'FOCAD', 'DNAJC17', 'DOT1L', 'SLAMF1', 'PSMD7', 'GALNS', 'C11orf80', 'GSE1', 'LOC101927275', 'PPARA', 'RASGEF1A', 'TMEM131', 'RPRD1A', 'LOC100996385', 'SPDYE5', 'TSC1', 'SENCR', 'JPX', 'LRRC37A2', 'ZSWIM7', 'TACC1', 'GZF1', 'LOC101927901', 'GALNT10', 'AKT1', 'GNB4', 'MASP2', 'CACNB2', 'PCGF3', 'PPWD1', 'WARS2', 'ANXA6', 'DNAH1', 'ZNHIT3', 'ECT2L', 'TMPRSS9', 'WIPI1', 'COA5', 'LOC100379224', 'C19orf68', 'ARHGEF26', 'POLR2J4', 'TMEM139', 'ZNF544', 'SKIV2L', 'CREB1', 'TRAF1', 'TMEM221', 'CRLF3', 'ARHGAP27', 'C11orf42', 'NDUFAF2', 'STX17', 'JAM3', 'FXR2', 'CERS5', 'FAM184B', 'TNK1', 'C1orf146', 'PXK', 'TM6SF1', 'CCT6P3', 'ZNF546', 'C9orf169', 'KMT2C', 'PRPF3', 'SLC48A1', 'RPUSD3', 'ATP2C2', 'FAM160B2', 'GLE1', 'GPR155', 'OXR1', 'UTP20', 'LARS', 'RUFY3', 'AKAP5', 'MROH6', 'A2MP1', 'HDAC5', 'AQP11', 'DDX56', 'GTF2F1', 'ZNF37BP', 'GINS3', 'HACL1', 'RNF224', 'FOXP3', 'HEXIM1', 'VPRBP', 'RNF39', 'SNRPD2', 'EML4', 'TMEM263', 'NR2C2', 'PARD6G', 'GOLGA8H', 'PRKX', 'VN1R1', 'ALG12', 'CCDC181', 'GSTO1', 'ZFP69', 'LYG2', 'ZNF878', 'SEC13', 'HSPB9', 'MEGF11', 'GPM6B', 'FTSJ3', 'PP7080', 'GNPTG', 'ATG14', 'BCS1L', 'ZNF790', 'ARAP1', 'CLASRP', 'RBM4B', 'PDHX', 'COQ6', 'LHX4']\n"
     ]
    }
   ],
   "source": [
    "print(exported_pipeline.steps[0][1].feat_list)"
   ]
  },
  {
   "cell_type": "code",
   "execution_count": 4,
   "metadata": {
    "scrolled": false
   },
   "outputs": [
    {
     "data": {
      "text/plain": [
       "array([0.00171307, 0.00461673, 0.00451463, 0.00468596, 0.00214541,\n",
       "       0.00083695, 0.00117561, 0.00150725, 0.00194034, 0.00441193,\n",
       "       0.00178796, 0.00323788, 0.00510511, 0.00168073, 0.0073903 ,\n",
       "       0.00359235, 0.00174137, 0.00248937, 0.00265686, 0.        ,\n",
       "       0.00178733, 0.00420438, 0.00862721, 0.00206305, 0.00330247,\n",
       "       0.0043915 , 0.        , 0.00107515, 0.00186621, 0.00239664,\n",
       "       0.01444189, 0.00258658, 0.0035314 , 0.00293179, 0.00288591,\n",
       "       0.00212998, 0.02768891, 0.00141359, 0.00204136, 0.00208141,\n",
       "       0.00467248, 0.00733866, 0.00292945, 0.00053519, 0.00098887,\n",
       "       0.00170817, 0.00373915, 0.00236595, 0.0021229 , 0.00899772,\n",
       "       0.00089884, 0.00464089, 0.00146718, 0.0017541 , 0.0022918 ,\n",
       "       0.00141004, 0.00669811, 0.00512765, 0.00321898, 0.00113051,\n",
       "       0.0005926 , 0.00564184, 0.00333274, 0.00342095, 0.00263959,\n",
       "       0.00134803, 0.00091001, 0.00330588, 0.00407871, 0.00154361,\n",
       "       0.00412519, 0.00176203, 0.00381653, 0.00237026, 0.00130255,\n",
       "       0.00458719, 0.00649653, 0.00332818, 0.0004475 , 0.00271831,\n",
       "       0.01187863, 0.00359761, 0.0020929 , 0.00422239, 0.01020473,\n",
       "       0.0039774 , 0.00361455, 0.00535211, 0.00440648, 0.00306751,\n",
       "       0.00403175, 0.0040099 , 0.0038802 , 0.00308949, 0.0016696 ,\n",
       "       0.01085609, 0.00133537, 0.0040457 , 0.00129981, 0.00129564,\n",
       "       0.00058869, 0.00478483, 0.00174065, 0.0027484 , 0.00705272,\n",
       "       0.00102009, 0.00379115, 0.0029125 , 0.00159565, 0.0044972 ,\n",
       "       0.00390575, 0.00086999, 0.00330949, 0.00309174, 0.00233485,\n",
       "       0.00444897, 0.00473449, 0.00365722, 0.00407568, 0.00197509,\n",
       "       0.00233015, 0.00588855, 0.0023376 , 0.00283249, 0.0010285 ,\n",
       "       0.00586274, 0.0022112 , 0.00270756, 0.00077601, 0.00476882,\n",
       "       0.00280664, 0.00119877, 0.00541115, 0.00269495, 0.00450595,\n",
       "       0.00391641, 0.0011331 , 0.00319889, 0.00097203, 0.00096966,\n",
       "       0.00678294, 0.00314872, 0.00242359, 0.00169974, 0.00173803,\n",
       "       0.00486641, 0.00633326, 0.0056465 , 0.        , 0.00222327,\n",
       "       0.0036942 , 0.00205896, 0.00436306, 0.00371009, 0.0029386 ,\n",
       "       0.00423612, 0.00360192, 0.0032363 , 0.00345894, 0.00303054,\n",
       "       0.00241503, 0.00245651, 0.00402126, 0.00109875, 0.00468985,\n",
       "       0.0027299 , 0.0024906 , 0.00499529, 0.00333333, 0.00045759,\n",
       "       0.00433819, 0.00833803, 0.00638635, 0.00483976, 0.00383936,\n",
       "       0.00340567, 0.00036451, 0.        , 0.00270487, 0.00272207,\n",
       "       0.00319515, 0.00633576, 0.00223503, 0.0062715 , 0.00091075,\n",
       "       0.00275663, 0.00380485, 0.0018043 , 0.00497328, 0.00233642,\n",
       "       0.00251589, 0.00130753, 0.00189633, 0.00140282, 0.00197695,\n",
       "       0.01225604, 0.00444822, 0.00047053, 0.00281084, 0.00498684,\n",
       "       0.00177859, 0.        , 0.00348164, 0.00464122, 0.00113703,\n",
       "       0.00494221, 0.00089782, 0.00218684, 0.00324678, 0.00050855,\n",
       "       0.00195593, 0.0034125 , 0.00466491, 0.00063967, 0.00392887,\n",
       "       0.00111528, 0.00533161, 0.00349381, 0.00416196, 0.00346507,\n",
       "       0.0066625 , 0.0019443 , 0.00249517, 0.00506188, 0.00081732,\n",
       "       0.00811366, 0.00268774, 0.00216623, 0.0022023 , 0.00097134,\n",
       "       0.03971948, 0.00094928, 0.00158521, 0.00043909, 0.00332611,\n",
       "       0.00742706, 0.00635552, 0.00120964, 0.00594352, 0.00272428,\n",
       "       0.00200333, 0.0011713 , 0.00132998, 0.00409622, 0.00033445,\n",
       "       0.00633323, 0.00599139, 0.00294695, 0.00550389, 0.00116151,\n",
       "       0.00134263, 0.003273  , 0.00924557, 0.00226965, 0.00852337,\n",
       "       0.00410039, 0.00476666, 0.00378585, 0.00132285, 0.00320357,\n",
       "       0.00234913, 0.00707348, 0.0045364 , 0.00325647, 0.00521762,\n",
       "       0.00069178, 0.00026415, 0.00305861, 0.02474567, 0.00286575,\n",
       "       0.00094672, 0.00585519, 0.00355897, 0.00337226, 0.00681099,\n",
       "       0.00281027, 0.0022031 , 0.        , 0.00727636])"
      ]
     },
     "execution_count": 4,
     "metadata": {},
     "output_type": "execute_result"
    }
   ],
   "source": [
    "exported_pipeline.steps[-1][1].feature_importances_"
   ]
  },
  {
   "cell_type": "code",
   "execution_count": 5,
   "metadata": {},
   "outputs": [],
   "source": [
    "results = exported_pipeline.predict(testing_features)"
   ]
  },
  {
   "cell_type": "code",
   "execution_count": 6,
   "metadata": {},
   "outputs": [
    {
     "data": {
      "text/plain": [
       "array([0., 0., 1., 1., 1., 0., 0., 0., 0., 1., 1., 1., 1., 1., 1., 1., 1.,\n",
       "       1., 1., 0., 0., 1., 1., 0., 1., 1., 0., 0., 1., 0., 1., 1., 0., 1.,\n",
       "       1., 0., 0., 1., 0., 0.])"
      ]
     },
     "execution_count": 6,
     "metadata": {},
     "output_type": "execute_result"
    }
   ],
   "source": [
    "results"
   ]
  },
  {
   "cell_type": "code",
   "execution_count": 23,
   "metadata": {},
   "outputs": [],
   "source": [
    "feat_imp = pd.DataFrame({'feat': exported_pipeline.steps[0][1].feat_list, \n",
    "            'score': exported_pipeline.steps[-1][1].feature_importances_})"
   ]
  },
  {
   "cell_type": "code",
   "execution_count": 24,
   "metadata": {},
   "outputs": [],
   "source": [
    "feat_imp.to_csv(\"featureImp5.csv\")"
   ]
  },
  {
   "cell_type": "code",
   "execution_count": null,
   "metadata": {},
   "outputs": [],
   "source": []
  }
 ],
 "metadata": {
  "kernelspec": {
   "display_name": "Python 3",
   "language": "python",
   "name": "python3"
  },
  "language_info": {
   "codemirror_mode": {
    "name": "ipython",
    "version": 3
   },
   "file_extension": ".py",
   "mimetype": "text/x-python",
   "name": "python",
   "nbconvert_exporter": "python",
   "pygments_lexer": "ipython3",
   "version": "3.6.5"
  }
 },
 "nbformat": 4,
 "nbformat_minor": 2
}
