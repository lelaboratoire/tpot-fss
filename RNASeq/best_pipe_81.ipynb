{
 "cells": [
  {
   "cell_type": "code",
   "execution_count": 1,
   "metadata": {},
   "outputs": [],
   "source": [
    "import numpy as np\n",
    "import pandas as pd\n",
    "from sklearn.ensemble import ExtraTreesClassifier\n",
    "from sklearn.model_selection import train_test_split\n",
    "from sklearn.pipeline import make_pipeline\n",
    "from sklearn.preprocessing import MaxAbsScaler\n",
    "from tpot.builtins import DatasetSelector\n",
    "from sklearn import metrics"
   ]
  },
  {
   "cell_type": "code",
   "execution_count": 2,
   "metadata": {},
   "outputs": [],
   "source": [
    "# NOTE: Make sure that the class is labeled 'target' in the data file\n",
    "# tpot_data = pd.read_csv('PATH/TO/DATA/FILE', sep='COLUMN_SEPARATOR', dtype=np.float64)\n",
    "tpot_data = pd.read_csv('rnaSeqMDD.csv', index_col=0, header=0)\n",
    "tpot_data =tpot_data.astype(np.float64)\n",
    "features = tpot_data.drop('phenotype', axis=1)\n",
    "training_features, testing_features, training_target, testing_target = \\\n",
    "            train_test_split(features, tpot_data['phenotype'], random_state=1618)\n",
    "\n",
    "# Average CV score on the training set was:0.7259130434782609\n",
    "exported_pipeline = make_pipeline(\n",
    "    DatasetSelector(sel_subset=4, subset_list=\"module23.csv\"),\n",
    "    MaxAbsScaler(),\n",
    "    ExtraTreesClassifier(bootstrap=True, criterion=\"entropy\", max_features=0.4, min_samples_leaf=3, min_samples_split=3, n_estimators=100)\n",
    ")"
   ]
  },
  {
   "cell_type": "code",
   "execution_count": 3,
   "metadata": {
    "scrolled": true
   },
   "outputs": [
    {
     "data": {
      "text/plain": [
       "Pipeline(memory=None,\n",
       "     steps=[('datasetselector', DatasetSelector(sel_subset=4, subset_list='module23.csv')), ('maxabsscaler', MaxAbsScaler(copy=True)), ('extratreesclassifier', ExtraTreesClassifier(bootstrap=True, class_weight=None, criterion='entropy',\n",
       "           max_depth=None, max_features=0.4, max_leaf_nodes=None,\n",
       "  ...imators=100, n_jobs=1,\n",
       "           oob_score=False, random_state=None, verbose=0, warm_start=False))])"
      ]
     },
     "execution_count": 3,
     "metadata": {},
     "output_type": "execute_result"
    }
   ],
   "source": [
    "exported_pipeline.fit(training_features, training_target)"
   ]
  },
  {
   "cell_type": "code",
   "execution_count": 4,
   "metadata": {},
   "outputs": [
    {
     "name": "stdout",
     "output_type": "stream",
     "text": [
      "['USP34', 'SPAG4', 'CALB1', 'GPR18', 'C9orf169', 'CREB1', 'PRPF38A', 'FAM13A', 'RPRD1A', 'DNAH1', 'CD160', 'TNK1', 'UHRF1', 'TTPAL', 'LOC646471', 'LOC100379224', 'PRKX', 'A2MP1', 'TMEM259', 'NREP', 'TRIM7', 'C6orf136', 'PARD6G', 'FTSJ3', 'JAM3', 'NFYC', 'REV3L', 'LOC101928063', 'MSTO1', 'SLC13A4', 'CACNB2', 'RHOQ', 'TACC1', 'CD72', 'ZNF552', 'ATP5H', 'PRPF3', 'SENP1', 'GTF2F1', 'TFIP11', 'LOC729732', 'STX17', 'HSPD1', 'REEP5', 'SKIV2L', 'DCLRE1C', 'CNTRL', 'TMEM217', 'PPWD1', 'UTP14A', 'ZNF814', 'ENTPD3', 'GNPTG', 'DARS2', 'NUDT5', 'PLEKHB1', 'ZNHIT3', 'ZNF805', 'SLC48A1', 'TMEM131', 'ATP2C2', 'FAS', 'COL4A4', 'ZNF544', 'GOLGA8H', 'FXR2', 'B9D2', 'GPR137', 'ERCC6L', 'LRP11', 'SAFB', 'C11orf42', 'ATG14', 'DHODH', 'DCDC2B', 'FAM86HP', 'GSTO1', 'PXK', 'TXLNA', 'DRG1', 'PPARA', 'PDE6C', 'GLE1', 'PROX2', 'ANAPC15', 'NDUFA2', 'GPM6B', 'TCF7L1', 'PCP4L1', 'ECT2L', 'ZNF865', 'MPL', 'RUFY3', 'PCCA', 'MCTP1', 'TNFAIP8L1', 'C1orf146', 'KMT2C', 'TRAF1', 'MRS2', 'NR2C2', 'GSE1', 'ARHGAP27', 'KDELR3', 'PSMD5', 'ALS2CR12', 'TAC4', 'CAMK1', 'BCS1L', 'ALOX12', 'GUCY1B2', 'CLEC2B', 'TP53I3', 'MYO5B', 'MEGF11', 'C12orf73', 'CFD', 'RNF224', 'OSGEPL1', 'EGLN1', 'C17orf53', 'LOC100129148', 'FAM103A1', 'RNF39', 'ROCK2', 'TBC1D8', 'ZNF407', 'COA5', 'ALG12', 'CUL4A', 'UTP20', 'VN1R1', 'COQ6', 'DPP7', 'ZNF57', 'LHX4', 'PIGZ', 'FOXP3', 'LCA5L', 'AKAP5', 'ZNF506', 'MYO19', 'POLR2J4', 'RNF113A', 'SIGLEC16', 'MROH6', 'ANXA6', 'TSC1', 'MARCH1', 'ZNF546', 'FAM160B2', 'LGALS8', 'SNX21', 'VPRBP', 'NDUFAF2', 'THADA', 'C19orf68', 'RBM4B', 'SPDYE5', 'PCGF3', 'GNB4', 'ITIH2', 'LOC100996385', 'ZNF83', 'S100A1', 'LOC102723809', 'EVA1C', 'GALNS', 'INTS4L2', 'FAM184B', 'RAD17', 'TMPRSS9', 'SENCR', 'HMBOX1', 'LENG9', 'ATAD5', 'BSN', 'ZNF646', 'DOT1L', 'PGM3', 'GZF1', 'NT5C2', 'GRTP1', 'SLAMF1', 'METTL25', 'PPM1N', 'OXR1', 'DDX56', 'CERS5', 'ZNF878', 'LYG2', 'GALNT10', 'HECTD1', 'TUBB1', 'AQP11', 'AMPH', 'LRRC37A6P', 'TM6SF1', 'BAD', 'LRRC37A2', 'LOC101929767', 'RPUSD3', 'SNRPD2', 'NFE2L3', 'BTBD2', 'ZSWIM7', 'SEC13', 'RRP7A', 'CCDC104', 'MASP2', 'FOXM1', 'WIPI1', 'LOC101241902', 'MIR635', 'GINS3', 'SPRN', 'DNAJC17', 'GPR155', 'ZC3H8', 'C2orf88', 'FAM98B', 'LOC101927275', 'ZNF37BP', 'CD48', 'FOCAD', 'CCT6P3', 'DENND4A', 'MIR3661', 'EFR3B', 'MCC', 'ARAP1', 'CLASRP', 'CARD14', 'RASGEF1A', 'SLC25A25', 'ZFP69', 'HEXIM1', 'ARHGEF26', 'NUDT13', 'PPP1R3B', 'UBE2E1', 'FKBP4', 'LOC102723885', 'LOC102724246', 'ICMT', 'HDAC5', 'LARS', 'SLC26A2', 'LOC101927901', 'SBF1', 'AKT1', 'PTPN14', 'PSMD7', 'FDPS', 'HACL1', 'HSPB9', 'WARS2', 'C11orf80', 'TMEM139', 'TAF3', 'TMEM263', 'TYW1', 'TMEM221', 'EML4', 'JPX', 'MMP19', 'COX20', 'CCDC181', 'ZNF790', 'UBTF', 'TFPT', 'BMP8A', 'RUSC1', 'CRLF3', 'RNF149', 'PDHX', 'MLLT10P1', 'PP7080', 'MSL1']\n"
     ]
    }
   ],
   "source": [
    "print(exported_pipeline.steps[0][1].feat_list)"
   ]
  },
  {
   "cell_type": "code",
   "execution_count": 5,
   "metadata": {
    "scrolled": false
   },
   "outputs": [
    {
     "data": {
      "text/plain": [
       "array([0.01991641, 0.00360656, 0.00886395, 0.00439832, 0.00196295,\n",
       "       0.00502269, 0.00483326, 0.01287379, 0.00680362, 0.        ,\n",
       "       0.0018355 , 0.00439417, 0.00392417, 0.00157504, 0.00234971,\n",
       "       0.00111453, 0.00574769, 0.00221801, 0.00414208, 0.00184699,\n",
       "       0.0008995 , 0.00376232, 0.00229739, 0.00745691, 0.00362571,\n",
       "       0.00283217, 0.00425491, 0.00239002, 0.00074589, 0.00220399,\n",
       "       0.00502764, 0.00633839, 0.00141598, 0.00250764, 0.00359786,\n",
       "       0.00388314, 0.00050359, 0.00177911, 0.00173426, 0.00205796,\n",
       "       0.00258387, 0.00375539, 0.00277546, 0.00111043, 0.00122577,\n",
       "       0.        , 0.00249182, 0.00387704, 0.00124792, 0.00854044,\n",
       "       0.00153996, 0.00045052, 0.00058762, 0.00223733, 0.00385473,\n",
       "       0.00237344, 0.00318229, 0.00156084, 0.00213517, 0.00328378,\n",
       "       0.00297868, 0.00198907, 0.00062305, 0.00360559, 0.00343588,\n",
       "       0.00125267, 0.        , 0.00195879, 0.00056907, 0.00415843,\n",
       "       0.00024491, 0.00134641, 0.00178797, 0.        , 0.00793187,\n",
       "       0.00141394, 0.00536916, 0.00496425, 0.00420086, 0.00849873,\n",
       "       0.00277951, 0.00263637, 0.00095373, 0.00361498, 0.00303202,\n",
       "       0.00325613, 0.00292319, 0.00980417, 0.00320771, 0.        ,\n",
       "       0.00247776, 0.00074549, 0.00641585, 0.00095823, 0.00242167,\n",
       "       0.00414309, 0.0048743 , 0.00054446, 0.00406685, 0.0024238 ,\n",
       "       0.01018395, 0.        , 0.        , 0.00460418, 0.01530536,\n",
       "       0.00049131, 0.00925974, 0.00389688, 0.00187547, 0.00205361,\n",
       "       0.00285927, 0.00503659, 0.00321579, 0.00202401, 0.00134161,\n",
       "       0.00302089, 0.005412  , 0.00023973, 0.00416768, 0.00245501,\n",
       "       0.00636489, 0.00254749, 0.00280808, 0.00272526, 0.00133726,\n",
       "       0.00398705, 0.00323984, 0.00191738, 0.        , 0.00413637,\n",
       "       0.0026598 , 0.0005271 , 0.00104597, 0.0014715 , 0.00691287,\n",
       "       0.01782135, 0.00138887, 0.00758361, 0.        , 0.00406972,\n",
       "       0.00441675, 0.00579164, 0.00402616, 0.00482414, 0.00028156,\n",
       "       0.00706049, 0.00513697, 0.00363055, 0.0010476 , 0.00375939,\n",
       "       0.00020414, 0.00047331, 0.00471592, 0.00109003, 0.00403831,\n",
       "       0.00258488, 0.00229054, 0.00453242, 0.00136573, 0.        ,\n",
       "       0.00324307, 0.0014127 , 0.00708962, 0.00294306, 0.00335782,\n",
       "       0.0002456 , 0.0017209 , 0.00677673, 0.00567766, 0.01115783,\n",
       "       0.00320229, 0.00165693, 0.00714686, 0.00154334, 0.00408664,\n",
       "       0.00098698, 0.00286616, 0.00438104, 0.00575948, 0.0035682 ,\n",
       "       0.00208029, 0.00348342, 0.00529856, 0.00107329, 0.00286618,\n",
       "       0.0024003 , 0.0171723 , 0.00531235, 0.00265112, 0.00556201,\n",
       "       0.00153207, 0.00084762, 0.00256024, 0.00261365, 0.0048747 ,\n",
       "       0.00390338, 0.00523445, 0.00668615, 0.00411148, 0.00164159,\n",
       "       0.00634341, 0.02333243, 0.00154313, 0.00132748, 0.0011393 ,\n",
       "       0.00540739, 0.00239843, 0.00544912, 0.00425261, 0.00720228,\n",
       "       0.00594171, 0.00125524, 0.00144486, 0.00500881, 0.01112924,\n",
       "       0.00982182, 0.00137868, 0.00738845, 0.00290968, 0.00100422,\n",
       "       0.00292118, 0.        , 0.00178318, 0.00289842, 0.00204036,\n",
       "       0.00026951, 0.00217311, 0.0011245 , 0.00074398, 0.00222847,\n",
       "       0.00411865, 0.0029407 , 0.00061563, 0.00192332, 0.00123121,\n",
       "       0.00147107, 0.0036454 , 0.00310348, 0.        , 0.00173424,\n",
       "       0.00570411, 0.0006964 , 0.00420482, 0.00369967, 0.00071452,\n",
       "       0.00309041, 0.00661711, 0.00126238, 0.00107792, 0.00276194,\n",
       "       0.00280195, 0.0096067 , 0.00148092, 0.00646567, 0.00199525,\n",
       "       0.01056083, 0.00551136, 0.00059575, 0.00121321, 0.00097443,\n",
       "       0.00694165, 0.01422901, 0.00493013, 0.00149662, 0.00182539,\n",
       "       0.01636509, 0.00529747, 0.00118878, 0.00470796, 0.00138218,\n",
       "       0.00594136, 0.00318469, 0.00432073, 0.00204428, 0.00132608,\n",
       "       0.00272067, 0.00041013, 0.0122765 , 0.00057886])"
      ]
     },
     "execution_count": 5,
     "metadata": {},
     "output_type": "execute_result"
    }
   ],
   "source": [
    "exported_pipeline.steps[-1][1].feature_importances_"
   ]
  },
  {
   "cell_type": "code",
   "execution_count": 6,
   "metadata": {},
   "outputs": [
    {
     "data": {
      "text/plain": [
       "array([[0.43302778, 0.56697222],\n",
       "       [0.69330952, 0.30669048],\n",
       "       [0.37064286, 0.62935714],\n",
       "       [0.34458333, 0.65541667],\n",
       "       [0.69472619, 0.30527381],\n",
       "       [0.41180952, 0.58819048],\n",
       "       [0.42347222, 0.57652778],\n",
       "       [0.38197222, 0.61802778],\n",
       "       [0.34455556, 0.65544444],\n",
       "       [0.69352381, 0.30647619],\n",
       "       [0.31869048, 0.68130952],\n",
       "       [0.7495873 , 0.2504127 ],\n",
       "       [0.50478571, 0.49521429],\n",
       "       [0.78610714, 0.21389286],\n",
       "       [0.66205556, 0.33794444],\n",
       "       [0.36316667, 0.63683333],\n",
       "       [0.32953571, 0.67046429],\n",
       "       [0.52169048, 0.47830952],\n",
       "       [0.70419048, 0.29580952],\n",
       "       [0.40188889, 0.59811111],\n",
       "       [0.19893651, 0.80106349],\n",
       "       [0.56521429, 0.43478571],\n",
       "       [0.40719048, 0.59280952],\n",
       "       [0.45623016, 0.54376984],\n",
       "       [0.32878968, 0.67121032],\n",
       "       [0.55039286, 0.44960714],\n",
       "       [0.55058333, 0.44941667],\n",
       "       [0.40999206, 0.59000794],\n",
       "       [0.36936905, 0.63063095],\n",
       "       [0.547     , 0.453     ],\n",
       "       [0.41171429, 0.58828571],\n",
       "       [0.205     , 0.795     ],\n",
       "       [0.59353571, 0.40646429],\n",
       "       [0.62761905, 0.37238095],\n",
       "       [0.63043651, 0.36956349],\n",
       "       [0.37547619, 0.62452381],\n",
       "       [0.75634524, 0.24365476],\n",
       "       [0.29347222, 0.70652778],\n",
       "       [0.52395238, 0.47604762],\n",
       "       [0.38103571, 0.61896429]])"
      ]
     },
     "execution_count": 6,
     "metadata": {},
     "output_type": "execute_result"
    }
   ],
   "source": [
    "results = exported_pipeline.predict_proba(testing_features)\n",
    "results"
   ]
  },
  {
   "cell_type": "code",
   "execution_count": 7,
   "metadata": {},
   "outputs": [],
   "source": [
    "feat_imp = pd.DataFrame({'feat': exported_pipeline.steps[0][1].feat_list, \n",
    "            'score': exported_pipeline.steps[-1][1].feature_importances_})"
   ]
  },
  {
   "cell_type": "code",
   "execution_count": 8,
   "metadata": {},
   "outputs": [],
   "source": [
    "feat_imp.to_csv(\"featureImp5.csv\")"
   ]
  },
  {
   "cell_type": "code",
   "execution_count": 9,
   "metadata": {},
   "outputs": [],
   "source": [
    "pd.DataFrame({'y':testing_target, 'ypred':results[:,1]}).to_csv(\"predictions5.csv\", index=False)"
   ]
  },
  {
   "cell_type": "code",
   "execution_count": 10,
   "metadata": {},
   "outputs": [
    {
     "data": {
      "text/plain": [
       "0.7272727272727273"
      ]
     },
     "execution_count": 10,
     "metadata": {},
     "output_type": "execute_result"
    }
   ],
   "source": [
    "fpr, tpr, thresholds = metrics.roc_curve(testing_target, results[:,1])\n",
    "metrics.auc(fpr, tpr)"
   ]
  },
  {
   "cell_type": "code",
   "execution_count": null,
   "metadata": {},
   "outputs": [],
   "source": []
  }
 ],
 "metadata": {
  "kernelspec": {
   "display_name": "Python 3",
   "language": "python",
   "name": "python3"
  },
  "language_info": {
   "codemirror_mode": {
    "name": "ipython",
    "version": 3
   },
   "file_extension": ".py",
   "mimetype": "text/x-python",
   "name": "python",
   "nbconvert_exporter": "python",
   "pygments_lexer": "ipython3",
   "version": "3.6.5"
  }
 },
 "nbformat": 4,
 "nbformat_minor": 2
}
