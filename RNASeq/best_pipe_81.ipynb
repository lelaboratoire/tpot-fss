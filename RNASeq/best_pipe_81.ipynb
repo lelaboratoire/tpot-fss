{
 "cells": [
  {
   "cell_type": "code",
   "execution_count": 1,
   "metadata": {},
   "outputs": [],
   "source": [
    "import numpy as np\n",
    "import pandas as pd\n",
    "from sklearn.ensemble import ExtraTreesClassifier\n",
    "from sklearn.model_selection import train_test_split\n",
    "from sklearn.pipeline import make_pipeline\n",
    "from sklearn.preprocessing import MaxAbsScaler\n",
    "from tpot.builtins import DatasetSelector\n",
    "from sklearn import metrics\n",
    "from tpot import TPOTClassifier"
   ]
  },
  {
   "cell_type": "code",
   "execution_count": 2,
   "metadata": {},
   "outputs": [],
   "source": [
    "# NOTE: Make sure that the class is labeled 'target' in the data file\n",
    "# tpot_data = pd.read_csv('PATH/TO/DATA/FILE', sep='COLUMN_SEPARATOR', dtype=np.float64)\n",
    "tpot_data = pd.read_csv('rnaSeqMDD.csv', index_col=0, header=0)\n",
    "tpot_data =tpot_data.astype(np.float64)\n",
    "features = tpot_data.drop('phenotype', axis=1)\n",
    "training_features, testing_features, training_target, testing_target = \\\n",
    "            train_test_split(features, tpot_data['phenotype'], random_state=1618)\n",
    "\n",
    "# Average CV score on the training set was:0.7259130434782609\n",
    "exported_pipeline = make_pipeline(\n",
    "    DatasetSelector(sel_subset=4, subset_list=\"module23.csv\"),\n",
    "    MaxAbsScaler(),\n",
    "    ExtraTreesClassifier(bootstrap=True, criterion=\"entropy\", max_features=0.4, min_samples_leaf=3, min_samples_split=3, n_estimators=100)\n",
    ")"
   ]
  },
  {
   "cell_type": "code",
   "execution_count": 3,
   "metadata": {
    "scrolled": false
   },
   "outputs": [
    {
     "data": {
      "text/plain": [
       "Pipeline(memory=None,\n",
       "     steps=[('datasetselector', DatasetSelector(sel_subset=4, subset_list='module23.csv')), ('maxabsscaler', MaxAbsScaler(copy=True)), ('extratreesclassifier', ExtraTreesClassifier(bootstrap=True, class_weight=None, criterion='entropy',\n",
       "           max_depth=None, max_features=0.4, max_leaf_nodes=None,\n",
       "  ...tors=100, n_jobs=None,\n",
       "           oob_score=False, random_state=1618, verbose=0, warm_start=False))])"
      ]
     },
     "execution_count": 3,
     "metadata": {},
     "output_type": "execute_result"
    }
   ],
   "source": [
    "tpot_obj= TPOTClassifier()\n",
    "tpot_obj._set_param_recursive(exported_pipeline.steps, 'random_state', 1618)\n",
    "exported_pipeline.fit(training_features, training_target)"
   ]
  },
  {
   "cell_type": "code",
   "execution_count": 4,
   "metadata": {},
   "outputs": [
    {
     "name": "stdout",
     "output_type": "stream",
     "text": [
      "['OXR1', 'GTF2F1', 'TFIP11', 'CFD', 'PTPN14', 'TAC4', 'ZNF544', 'NT5C2', 'KDELR3', 'DRG1', 'FAM13A', 'GSE1', 'PRPF3', 'SLC26A2', 'FOXM1', 'MYO19', 'MIR635', 'GPR18', 'TACC1', 'BTBD2', 'REEP5', 'TUBB1', 'LHX4', 'C2orf88', 'TAF3', 'EVA1C', 'LOC101929767', 'DHODH', 'COQ6', 'PIGZ', 'MYO5B', 'CUL4A', 'ARAP1', 'LYG2', 'AKT1', 'MMP19', 'BCS1L', 'GPR155', 'RNF224', 'THADA', 'PSMD7', 'TBC1D8', 'ITIH2', 'TCF7L1', 'JAM3', 'PCP4L1', 'TRIM7', 'PXK', 'SLC25A25', 'ECT2L', 'RBM4B', 'TMEM221', 'LOC102724246', 'CD160', 'SEC13', 'REV3L', 'MCTP1', 'CREB1', 'JPX', 'DOT1L', 'NUDT13', 'MEGF11', 'GOLGA8H', 'TXLNA', 'CCT6P3', 'LARS', 'LRRC37A6P', 'INTS4L2', 'UBE2E1', 'SKIV2L', 'AKAP5', 'METTL25', 'TSC1', 'CCDC104', 'PARD6G', 'ICMT', 'RHOQ', 'A2MP1', 'POLR2J4', 'RNF149', 'DNAJC17', 'TMEM259', 'LOC100379224', 'CCDC181', 'ZNF814', 'LOC100996385', 'DARS2', 'FAM98B', 'RUFY3', 'PGM3', 'RNF113A', 'TRAF1', 'UHRF1', 'C11orf42', 'TMEM263', 'DPP7', 'SENCR', 'FDPS', 'RUSC1', 'KMT2C', 'ANXA6', 'HSPD1', 'ARHGEF26', 'ZNHIT3', 'MLLT10P1', 'S100A1', 'UTP20', 'GZF1', 'LOC646471', 'ZNF878', 'CLEC2B', 'C19orf68', 'C1orf146', 'LOC101927901', 'GPM6B', 'SBF1', 'NDUFA2', 'ZNF506', 'GSTO1', 'PPM1N', 'ALG12', 'GPR137', 'TNFAIP8L1', 'RRP7A', 'GALNS', 'HSPB9', 'MIR3661', 'ZSWIM7', 'NDUFAF2', 'MSTO1', 'ZNF57', 'AMPH', 'FAM103A1', 'CERS5', 'PPP1R3B', 'FTSJ3', 'PRKX', 'MARCH1', 'COL4A4', 'WIPI1', 'COA5', 'FOXP3', 'VN1R1', 'ERCC6L', 'ROCK2', 'FXR2', 'ENTPD3', 'GUCY1B2', 'OSGEPL1', 'PPARA', 'CALB1', 'SENP1', 'TTPAL', 'PCCA', 'PRPF38A', 'ZNF865', 'SAFB', 'HEXIM1', 'GRTP1', 'BAD', 'GNPTG', 'LOC101928063', 'NREP', 'STX17', 'ZC3H8', 'C11orf80', 'PPWD1', 'ZNF805', 'SPRN', 'TMPRSS9', 'COX20', 'ZNF546', 'VPRBP', 'FAM160B2', 'CRLF3', 'TP53I3', 'TM6SF1', 'C6orf136', 'LOC729732', 'SIGLEC16', 'C9orf169', 'ALS2CR12', 'SNX21', 'RNF39', 'SLC48A1', 'EGLN1', 'MASP2', 'TYW1', 'UBTF', 'LCA5L', 'TFPT', 'PLEKHB1', 'ZNF646', 'SLC13A4', 'SPAG4', 'NFE2L3', 'AQP11', 'FAM86HP', 'HDAC5', 'PSMD5', 'PCGF3', 'LGALS8', 'SPDYE5', 'EML4', 'CARD14', 'RASGEF1A', 'RPRD1A', 'MSL1', 'GLE1', 'CD72', 'DENND4A', 'PROX2', 'ATAD5', 'ALOX12', 'ATP2C2', 'GALNT10', 'LOC102723809', 'TMEM139', 'DCDC2B', 'ATP5H', 'ZFP69', 'PP7080', 'RAD17', 'CNTRL', 'MCC', 'UTP14A', 'TNK1', 'BSN', 'LENG9', 'C17orf53', 'ZNF552', 'LRP11', 'ZNF83', 'LOC101927275', 'TMEM131', 'CD48', 'USP34', 'ZNF790', 'MPL', 'LOC100129148', 'MROH6', 'CAMK1', 'B9D2', 'NR2C2', 'ZNF37BP', 'ATG14', 'DCLRE1C', 'GNB4', 'BMP8A', 'ARHGAP27', 'RPUSD3', 'LRRC37A2', 'C12orf73', 'FAM184B', 'FOCAD', 'PDE6C', 'CLASRP', 'WARS2', 'NUDT5', 'LOC101241902', 'CACNB2', 'EFR3B', 'FKBP4', 'PDHX', 'LOC102723885', 'HACL1', 'MRS2', 'GINS3', 'ZNF407', 'SLAMF1', 'TMEM217', 'FAS', 'HMBOX1', 'ANAPC15', 'DDX56', 'HECTD1', 'SNRPD2', 'DNAH1', 'NFYC']\n"
     ]
    }
   ],
   "source": [
    "print(exported_pipeline.steps[0][1].feat_list)"
   ]
  },
  {
   "cell_type": "code",
   "execution_count": 5,
   "metadata": {
    "scrolled": false
   },
   "outputs": [
    {
     "data": {
      "text/plain": [
       "array([0.02169967, 0.00200719, 0.00264165, 0.0025068 , 0.00173451,\n",
       "       0.00662777, 0.00251391, 0.00106874, 0.00569524, 0.00308943,\n",
       "       0.01601675, 0.00265213, 0.0054406 , 0.00241941, 0.00335645,\n",
       "       0.00525842, 0.00222968, 0.00267979, 0.0016922 , 0.00072498,\n",
       "       0.00125605, 0.00086005, 0.00989301, 0.0034698 , 0.00299947,\n",
       "       0.00051697, 0.00559787, 0.00278037, 0.00131791, 0.00133638,\n",
       "       0.00189669, 0.00717583, 0.00271621, 0.0040089 , 0.00308911,\n",
       "       0.01078403, 0.00098162, 0.        , 0.0046175 , 0.00212951,\n",
       "       0.00192265, 0.00730107, 0.00133578, 0.00490789, 0.00265714,\n",
       "       0.00311932, 0.00107502, 0.0019026 , 0.00120436, 0.00287009,\n",
       "       0.00443267, 0.00145254, 0.00232971, 0.00055431, 0.00081671,\n",
       "       0.00458336, 0.0005396 , 0.00348774, 0.00314152, 0.0011632 ,\n",
       "       0.00166789, 0.0042212 , 0.00426789, 0.00188104, 0.00276951,\n",
       "       0.00165128, 0.00312265, 0.00168419, 0.00618806, 0.00560974,\n",
       "       0.00279565, 0.00221321, 0.00377804, 0.0032919 , 0.00369632,\n",
       "       0.00069146, 0.00375926, 0.00432774, 0.00422499, 0.0015468 ,\n",
       "       0.00141534, 0.00184699, 0.00532838, 0.00148074, 0.00351261,\n",
       "       0.01035149, 0.00101301, 0.00248025, 0.00326338, 0.00383752,\n",
       "       0.00664149, 0.00246043, 0.00204449, 0.00344039, 0.00187537,\n",
       "       0.00087792, 0.00602685, 0.00094463, 0.00402389, 0.00158905,\n",
       "       0.00321426, 0.0039634 , 0.00129094, 0.00287347, 0.00381634,\n",
       "       0.00621835, 0.00373737, 0.00314123, 0.0061424 , 0.003551  ,\n",
       "       0.00789014, 0.00263357, 0.00125097, 0.00106138, 0.        ,\n",
       "       0.00214307, 0.00341351, 0.00212997, 0.00527212, 0.00597962,\n",
       "       0.00372087, 0.00382133, 0.00357375, 0.00320082, 0.00568822,\n",
       "       0.00986778, 0.0022257 , 0.00157688, 0.00097095, 0.00052942,\n",
       "       0.00203651, 0.00462184, 0.00141843, 0.00224271, 0.00080647,\n",
       "       0.00263085, 0.00594501, 0.00187732, 0.00269581, 0.00207169,\n",
       "       0.00074974, 0.00691029, 0.00271957, 0.0010247 , 0.00159267,\n",
       "       0.00120746, 0.00195509, 0.00228727, 0.00178746, 0.00290156,\n",
       "       0.00593559, 0.00226178, 0.00349435, 0.        , 0.00570864,\n",
       "       0.00564288, 0.00068536, 0.01076516, 0.00157607, 0.00324367,\n",
       "       0.00308633, 0.00148216, 0.00083082, 0.00425944, 0.00347792,\n",
       "       0.00207346, 0.0005911 , 0.00030935, 0.0135311 , 0.00330597,\n",
       "       0.00365463, 0.00378978, 0.00175739, 0.0005406 , 0.00241995,\n",
       "       0.0020233 , 0.0119615 , 0.00318601, 0.00125919, 0.0020495 ,\n",
       "       0.        , 0.00328542, 0.00591089, 0.00348136, 0.00167967,\n",
       "       0.003082  , 0.00409702, 0.01372073, 0.00054291, 0.00427354,\n",
       "       0.01109973, 0.00028179, 0.00217498, 0.00243799, 0.00222292,\n",
       "       0.00345497, 0.00634989, 0.00642958, 0.        , 0.02731683,\n",
       "       0.00122473, 0.00204316, 0.00427576, 0.00301654, 0.00153557,\n",
       "       0.0006058 , 0.0078717 , 0.00143378, 0.00070404, 0.00622204,\n",
       "       0.00498906, 0.00416743, 0.00274925, 0.00133235, 0.0037423 ,\n",
       "       0.        , 0.00137784, 0.00053812, 0.01093191, 0.00405877,\n",
       "       0.0024388 , 0.01185648, 0.00274536, 0.00138495, 0.00138765,\n",
       "       0.00809159, 0.00278004, 0.00374869, 0.00211096, 0.00900851,\n",
       "       0.00077762, 0.00629609, 0.001101  , 0.00124208, 0.00339298,\n",
       "       0.00353743, 0.01967379, 0.00450769, 0.00104045, 0.00291975,\n",
       "       0.00798057, 0.00477738, 0.00196457, 0.0192538 , 0.00418785,\n",
       "       0.00462873, 0.        , 0.00160575, 0.00152169, 0.00297628,\n",
       "       0.0139505 , 0.00535528, 0.00055463, 0.00798987, 0.00205014,\n",
       "       0.00256356, 0.00057546, 0.0040703 , 0.00369993, 0.00249769,\n",
       "       0.00432797, 0.00315246, 0.00098947, 0.00219929, 0.0043091 ,\n",
       "       0.00194164, 0.00067119, 0.00549381, 0.00219549, 0.00265346,\n",
       "       0.01252013, 0.00316129, 0.00123416, 0.00378039, 0.0033516 ,\n",
       "       0.00072378, 0.001958  , 0.        , 0.0010213 ])"
      ]
     },
     "execution_count": 5,
     "metadata": {},
     "output_type": "execute_result"
    }
   ],
   "source": [
    "exported_pipeline.steps[-1][1].feature_importances_"
   ]
  },
  {
   "cell_type": "code",
   "execution_count": 6,
   "metadata": {},
   "outputs": [
    {
     "data": {
      "text/plain": [
       "array([[0.39289286, 0.60710714],\n",
       "       [0.62545238, 0.37454762],\n",
       "       [0.34197619, 0.65802381],\n",
       "       [0.32921861, 0.67078139],\n",
       "       [0.74655952, 0.25344048],\n",
       "       [0.35694084, 0.64305916],\n",
       "       [0.40665512, 0.59334488],\n",
       "       [0.349671  , 0.650329  ],\n",
       "       [0.28000794, 0.71999206],\n",
       "       [0.75615909, 0.24384091],\n",
       "       [0.37707143, 0.62292857],\n",
       "       [0.78719048, 0.21280952],\n",
       "       [0.61641667, 0.38358333],\n",
       "       [0.73016667, 0.26983333],\n",
       "       [0.62097619, 0.37902381],\n",
       "       [0.45124242, 0.54875758],\n",
       "       [0.34529762, 0.65470238],\n",
       "       [0.61590909, 0.38409091],\n",
       "       [0.70016667, 0.29983333],\n",
       "       [0.41929762, 0.58070238],\n",
       "       [0.19010714, 0.80989286],\n",
       "       [0.50975433, 0.49024567],\n",
       "       [0.39205195, 0.60794805],\n",
       "       [0.45461905, 0.54538095],\n",
       "       [0.318     , 0.682     ],\n",
       "       [0.56715909, 0.43284091],\n",
       "       [0.5862619 , 0.4137381 ],\n",
       "       [0.43305159, 0.56694841],\n",
       "       [0.43042857, 0.56957143],\n",
       "       [0.59639286, 0.40360714],\n",
       "       [0.4914127 , 0.5085873 ],\n",
       "       [0.31142857, 0.68857143],\n",
       "       [0.62066667, 0.37933333],\n",
       "       [0.64230952, 0.35769048],\n",
       "       [0.47544877, 0.52455123],\n",
       "       [0.38984127, 0.61015873],\n",
       "       [0.69340476, 0.30659524],\n",
       "       [0.36314286, 0.63685714],\n",
       "       [0.53502814, 0.46497186],\n",
       "       [0.45354762, 0.54645238]])"
      ]
     },
     "execution_count": 6,
     "metadata": {},
     "output_type": "execute_result"
    }
   ],
   "source": [
    "results = exported_pipeline.predict_proba(testing_features)\n",
    "results"
   ]
  },
  {
   "cell_type": "code",
   "execution_count": 7,
   "metadata": {},
   "outputs": [],
   "source": [
    "feat_imp = pd.DataFrame({'feat': exported_pipeline.steps[0][1].feat_list, \n",
    "            'score': exported_pipeline.steps[-1][1].feature_importances_})"
   ]
  },
  {
   "cell_type": "code",
   "execution_count": 8,
   "metadata": {},
   "outputs": [],
   "source": [
    "feat_imp.to_csv(\"featureImp5.csv\")"
   ]
  },
  {
   "cell_type": "code",
   "execution_count": 9,
   "metadata": {},
   "outputs": [],
   "source": [
    "pd.DataFrame({'y':testing_target, 'ypred':results[:,1]}).to_csv(\"predictions5.csv\", index=False)"
   ]
  },
  {
   "cell_type": "code",
   "execution_count": 10,
   "metadata": {},
   "outputs": [
    {
     "data": {
      "text/plain": [
       "0.7045454545454546"
      ]
     },
     "execution_count": 10,
     "metadata": {},
     "output_type": "execute_result"
    }
   ],
   "source": [
    "fpr, tpr, thresholds = metrics.roc_curve(testing_target, results[:,1])\n",
    "metrics.auc(fpr, tpr)"
   ]
  }
 ],
 "metadata": {
  "kernelspec": {
   "display_name": "Python 3",
   "language": "python",
   "name": "python3"
  },
  "language_info": {
   "codemirror_mode": {
    "name": "ipython",
    "version": 3
   },
   "file_extension": ".py",
   "mimetype": "text/x-python",
   "name": "python",
   "nbconvert_exporter": "python",
   "pygments_lexer": "ipython3",
   "version": "3.6.7"
  }
 },
 "nbformat": 4,
 "nbformat_minor": 2
}
