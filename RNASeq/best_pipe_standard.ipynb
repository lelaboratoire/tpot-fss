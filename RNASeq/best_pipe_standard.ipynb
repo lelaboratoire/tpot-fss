{
 "cells": [
  {
   "cell_type": "code",
   "execution_count": 1,
   "metadata": {},
   "outputs": [],
   "source": [
    "import numpy as np\n",
    "import pandas as pd\n",
    "from sklearn.ensemble import RandomForestClassifier\n",
    "from sklearn.kernel_approximation import Nystroem\n",
    "from sklearn.model_selection import train_test_split\n",
    "from sklearn.pipeline import make_pipeline\n",
    "from sklearn import metrics\n",
    "from tpot import TPOTClassifier"
   ]
  },
  {
   "cell_type": "code",
   "execution_count": 2,
   "metadata": {},
   "outputs": [],
   "source": [
    "# NOTE: Make sure that the class is labeled 'target' in the data file\n",
    "# tpot_data = pd.read_csv('PATH/TO/DATA/FILE', sep='COLUMN_SEPARATOR', dtype=np.float64)\n",
    "tpot_data = pd.read_csv('rnaSeqMDD.csv', index_col=0, header=0)\n",
    "tpot_data =tpot_data.astype(np.float64)\n",
    "features = tpot_data.drop('phenotype', axis=1)\n",
    "training_features, testing_features, training_target, testing_target = \\\n",
    "            train_test_split(features, tpot_data['phenotype'], random_state=1618)\n",
    "\n",
    "# Average CV score on the training set was:0.728\n",
    "exported_pipeline = make_pipeline(\n",
    "    Nystroem(gamma=0.2, kernel=\"linear\", n_components=5),\n",
    "    RandomForestClassifier(bootstrap=True, criterion=\"gini\", max_features=0.05, min_samples_leaf=6, min_samples_split=13, n_estimators=100)\n",
    ")"
   ]
  },
  {
   "cell_type": "code",
   "execution_count": 3,
   "metadata": {
    "scrolled": true
   },
   "outputs": [
    {
     "data": {
      "text/plain": [
       "Pipeline(memory=None,\n",
       "     steps=[('nystroem', Nystroem(coef0=None, degree=None, gamma=0.2, kernel='linear',\n",
       "     kernel_params=None, n_components=5, random_state=1618)), ('randomforestclassifier', RandomForestClassifier(bootstrap=True, class_weight=None, criterion='gini',\n",
       "            max_depth=None, max_features=0.05, max_le...obs=None,\n",
       "            oob_score=False, random_state=1618, verbose=0,\n",
       "            warm_start=False))])"
      ]
     },
     "execution_count": 3,
     "metadata": {},
     "output_type": "execute_result"
    }
   ],
   "source": [
    "tpot_obj= TPOTClassifier()\n",
    "tpot_obj._set_param_recursive(exported_pipeline.steps, 'random_state', 1618)\n",
    "exported_pipeline.fit(training_features, training_target)"
   ]
  },
  {
   "cell_type": "code",
   "execution_count": 4,
   "metadata": {
    "scrolled": false
   },
   "outputs": [],
   "source": [
    "# print(exported_pipeline.steps[-1][1].feat_list)\n",
    "# exported_pipeline.steps[-1][1].feature_importances_\n",
    "# feat_imp = pd.DataFrame({'feat': exported_pipeline.steps[0][1].feat_list, \n",
    "#             'score': exported_pipeline.steps[-1][1].feature_importances_})\n",
    "# feat_imp.to_csv(\"featureImpTPOTStand.csv\")"
   ]
  },
  {
   "cell_type": "code",
   "execution_count": 5,
   "metadata": {},
   "outputs": [
    {
     "data": {
      "text/plain": [
       "array([[0.45903469, 0.54096531],\n",
       "       [0.70813484, 0.29186516],\n",
       "       [0.58972477, 0.41027523],\n",
       "       [0.42041509, 0.57958491],\n",
       "       [0.69518582, 0.30481418],\n",
       "       [0.49428968, 0.50571032],\n",
       "       [0.54709856, 0.45290144],\n",
       "       [0.61398513, 0.38601487],\n",
       "       [0.25654965, 0.74345035],\n",
       "       [0.47191041, 0.52808959],\n",
       "       [0.44418853, 0.55581147],\n",
       "       [0.73714217, 0.26285783],\n",
       "       [0.67533614, 0.32466386],\n",
       "       [0.61292119, 0.38707881],\n",
       "       [0.70357373, 0.29642627],\n",
       "       [0.61870861, 0.38129139],\n",
       "       [0.68995786, 0.31004214],\n",
       "       [0.49555012, 0.50444988],\n",
       "       [0.69619973, 0.30380027],\n",
       "       [0.31169944, 0.68830056],\n",
       "       [0.46675425, 0.53324575],\n",
       "       [0.47867077, 0.52132923],\n",
       "       [0.66788315, 0.33211685],\n",
       "       [0.46070502, 0.53929498],\n",
       "       [0.45617519, 0.54382481],\n",
       "       [0.60997586, 0.39002414],\n",
       "       [0.62414239, 0.37585761],\n",
       "       [0.60832538, 0.39167462],\n",
       "       [0.43136967, 0.56863033],\n",
       "       [0.61315441, 0.38684559],\n",
       "       [0.46542531, 0.53457469],\n",
       "       [0.40653642, 0.59346358],\n",
       "       [0.69570912, 0.30429088],\n",
       "       [0.75136106, 0.24863894],\n",
       "       [0.45552049, 0.54447951],\n",
       "       [0.36093574, 0.63906426],\n",
       "       [0.64147334, 0.35852666],\n",
       "       [0.30452382, 0.69547618],\n",
       "       [0.65843132, 0.34156868],\n",
       "       [0.47707374, 0.52292626]])"
      ]
     },
     "execution_count": 5,
     "metadata": {},
     "output_type": "execute_result"
    }
   ],
   "source": [
    "results = exported_pipeline.predict_proba(testing_features)\n",
    "results"
   ]
  },
  {
   "cell_type": "code",
   "execution_count": 6,
   "metadata": {},
   "outputs": [],
   "source": [
    "pd.DataFrame({'y':testing_target, 'ypred':results[:,1]}).to_csv(\"predictionsTPOTStand.csv\", index=False)"
   ]
  },
  {
   "cell_type": "code",
   "execution_count": 7,
   "metadata": {},
   "outputs": [
    {
     "data": {
      "text/plain": [
       "0.6287878787878789"
      ]
     },
     "execution_count": 7,
     "metadata": {},
     "output_type": "execute_result"
    }
   ],
   "source": [
    "fpr, tpr, thresholds = metrics.roc_curve(testing_target, results[:,1])\n",
    "metrics.auc(fpr, tpr)"
   ]
  }
 ],
 "metadata": {
  "kernelspec": {
   "display_name": "Python 3",
   "language": "python",
   "name": "python3"
  },
  "language_info": {
   "codemirror_mode": {
    "name": "ipython",
    "version": 3
   },
   "file_extension": ".py",
   "mimetype": "text/x-python",
   "name": "python",
   "nbconvert_exporter": "python",
   "pygments_lexer": "ipython3",
   "version": "3.6.7"
  }
 },
 "nbformat": 4,
 "nbformat_minor": 2
}
