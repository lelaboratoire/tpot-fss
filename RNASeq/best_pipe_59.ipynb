{
 "cells": [
  {
   "cell_type": "code",
   "execution_count": 1,
   "metadata": {},
   "outputs": [],
   "source": [
    "import numpy as np\n",
    "import pandas as pd\n",
    "from sklearn.ensemble import ExtraTreesClassifier\n",
    "from sklearn.model_selection import train_test_split\n",
    "from sklearn.pipeline import make_pipeline\n",
    "from tpot.builtins import DatasetSelector, OneHotEncoder\n",
    "from sklearn import metrics\n",
    "from tpot import TPOTClassifier"
   ]
  },
  {
   "cell_type": "code",
   "execution_count": 2,
   "metadata": {},
   "outputs": [],
   "source": [
    "# NOTE: Make sure that the class is labeled 'target' in the data file\n",
    "# tpot_data = pd.read_csv('PATH/TO/DATA/FILE', sep='COLUMN_SEPARATOR', dtype=np.float64)\n",
    "tpot_data = pd.read_csv('rnaSeqMDD.csv', index_col=0, header=0)\n",
    "tpot_data =tpot_data.astype(np.float64)\n",
    "features = tpot_data.drop('phenotype', axis=1)\n",
    "training_features, testing_features, training_target, testing_target = \\\n",
    "            train_test_split(features, tpot_data['phenotype'], random_state=1618)\n",
    "\n",
    "# Average CV score on the training set was:0.7259130434782609\n",
    "exported_pipeline = make_pipeline(\n",
    "    DatasetSelector(sel_subset=12, subset_list=\"module23.csv\"),\n",
    "    OneHotEncoder(minimum_fraction=0.1, sparse=False, threshold=10),\n",
    "    ExtraTreesClassifier(bootstrap=False, criterion=\"entropy\", max_features=0.05, min_samples_leaf=8, min_samples_split=8, n_estimators=100)\n",
    ")"
   ]
  },
  {
   "cell_type": "code",
   "execution_count": 3,
   "metadata": {
    "scrolled": true
   },
   "outputs": [
    {
     "data": {
      "text/plain": [
       "Pipeline(memory=None,\n",
       "     steps=[('datasetselector', DatasetSelector(sel_subset=12, subset_list='module23.csv')), ('onehotencoder', OneHotEncoder(categorical_features=[False, False, False, False, False, False, False, False, False, False, False, False, False, False, False, False, False, False, False, False, False, False, Fals...tors=100, n_jobs=None,\n",
       "           oob_score=False, random_state=1618, verbose=0, warm_start=False))])"
      ]
     },
     "execution_count": 3,
     "metadata": {},
     "output_type": "execute_result"
    }
   ],
   "source": [
    "tpot_obj= TPOTClassifier()\n",
    "tpot_obj._set_param_recursive(exported_pipeline.steps, 'random_state', 1618)\n",
    "exported_pipeline.fit(training_features, training_target)"
   ]
  },
  {
   "cell_type": "code",
   "execution_count": 4,
   "metadata": {},
   "outputs": [
    {
     "name": "stdout",
     "output_type": "stream",
     "text": [
      "['PRH2', 'MICAL1', 'FAM193B', 'SLFNL1', 'ZNF24', 'TRAF3IP2', 'TEAD2', 'WDR5B', 'TOMM34', 'CEMIP', 'PAPSS2', 'SNX11', 'LRP2BP', 'TSSK3', 'NUTM2G', 'DDX58', 'SNX22', 'GFM2', 'LRRN2', 'PODXL', 'FAM86A', 'NUP188', 'TSSK4', 'SLC34A3', 'MXRA8', 'FAR2', 'LOC101929010', 'MIR1282', 'PEX5L', 'RPS6KA2', 'ZNF397', 'ZHX3', 'MIR497HG', 'ZNF154', 'SH3BP5', 'H1FNT', 'LSR', 'PRR3', 'KCNH3', 'ZNF213', 'CASP8', 'METTL12', 'WHSC1L1', 'LOC100132356', 'SPTBN2', 'SLC1A4', 'LRRC8B', 'EIF4ENIF1', 'MYRIP', 'TIMM17B', 'TRIM17', 'ORM2', 'DISP2', 'VTN', 'RNASEH2C', 'FBXL16', 'JPH3', 'LOC100996251', 'FUCA2', 'CISD2', 'NOP16', 'ACAT1', 'DOPEY1', 'KCNT1', 'RDH13', 'NIF3L1', 'NCOR1', 'ABTB2', 'PPP1R16A', 'NAALAD2', 'RHOF', 'MRPS7', 'ARPC3', 'CCDC28B', 'TUB', 'ERMAP', 'SLC24A1', 'CROCCP3', 'LOC101928943', 'BCL9', 'SIK2', 'EML5', 'LOC100506469', 'SYTL1', 'THBS4', 'BYSL', 'BORA', 'UBE2D4', 'FARP2', 'PLXNC1', 'VPS52', 'SNED1', 'PFKP', 'ZBED4', 'RAD9A', 'GDF9', 'TOMM70A', 'CASKIN1', 'MTHFD2', 'C15orf40', 'SRPK3', 'SSBP3', 'DGKQ', 'CLECL1', 'PLCE1', 'NSUN5P2', 'COA7', 'RNF167', 'LOC101927211', 'LOC100506083', 'CABP7', 'DPY19L2P2', 'LCAT', 'PCDH12', 'TBC1D10C', 'TMPRSS6', 'PDZK1', 'BAP1', 'PPAPDC1B', 'SEMA6A', 'PAXBP1', 'FNDC9', 'ZNF233', 'IQCC', 'FMNL2', 'SCN8A', 'RGL4', 'PROC', 'GPT']\n"
     ]
    }
   ],
   "source": [
    "print(exported_pipeline.steps[0][1].feat_list)"
   ]
  },
  {
   "cell_type": "code",
   "execution_count": 5,
   "metadata": {
    "scrolled": false
   },
   "outputs": [
    {
     "data": {
      "text/plain": [
       "array([1.10552882e-02, 1.09108413e-03, 3.73529488e-03, 1.81416925e-02,\n",
       "       6.14324869e-03, 1.04922722e-03, 2.91135916e-03, 2.18761360e-03,\n",
       "       8.84466655e-03, 8.71681987e-03, 6.63151414e-03, 3.78299864e-03,\n",
       "       8.31062192e-04, 1.24730007e-02, 1.09136612e-02, 2.81924919e-03,\n",
       "       6.26609227e-03, 2.84021632e-03, 2.66934616e-02, 7.30935524e-03,\n",
       "       1.81397630e-03, 6.32277358e-03, 4.29470925e-03, 1.91798377e-02,\n",
       "       3.61927161e-02, 5.53949829e-03, 1.56447789e-03, 9.61824969e-03,\n",
       "       3.45720676e-04, 7.69995126e-03, 5.82248161e-03, 4.96135538e-03,\n",
       "       6.63861376e-03, 1.19324688e-02, 1.21136652e-02, 3.62769752e-04,\n",
       "       1.62684303e-02, 5.70584421e-03, 4.28475582e-03, 1.33330493e-02,\n",
       "       5.72654793e-03, 7.85291936e-03, 6.32147580e-03, 2.51073080e-03,\n",
       "       7.90895374e-03, 2.32347941e-03, 2.67659091e-03, 4.96859742e-03,\n",
       "       2.01510795e-03, 5.00997425e-04, 1.35392197e-02, 1.31499352e-02,\n",
       "       3.62528034e-03, 2.60009760e-03, 6.06943467e-04, 2.19195832e-03,\n",
       "       1.10734315e-02, 4.50367900e-03, 6.25731795e-03, 1.12150563e-02,\n",
       "       1.20179101e-02, 2.37006408e-05, 2.94950975e-03, 5.53186146e-03,\n",
       "       9.70650510e-03, 1.08295780e-03, 8.46365189e-03, 2.01035674e-03,\n",
       "       1.87941023e-02, 8.92460359e-03, 1.31473006e-02, 2.60042163e-03,\n",
       "       2.23976701e-03, 6.24809209e-03, 9.84265218e-03, 2.70387944e-03,\n",
       "       6.73876731e-03, 3.44362275e-03, 7.52825392e-03, 9.22476966e-03,\n",
       "       7.47500790e-03, 2.19617594e-03, 7.18599991e-03, 4.62849773e-03,\n",
       "       4.03833601e-03, 1.10823335e-03, 8.56159326e-03, 3.50738124e-03,\n",
       "       8.46038711e-03, 5.88329127e-03, 1.23449883e-02, 6.79565470e-03,\n",
       "       1.00544875e-02, 4.57769369e-03, 1.24660878e-02, 3.21828430e-03,\n",
       "       5.39378625e-03, 5.05677382e-03, 1.48603800e-03, 1.77890259e-02,\n",
       "       2.27623777e-04, 5.19949082e-03, 7.79873148e-03, 8.66571257e-03,\n",
       "       2.97123862e-03, 1.36319977e-02, 9.83329279e-03, 1.98718734e-02,\n",
       "       4.56729266e-03, 6.41436714e-03, 1.17319589e-02, 5.15220448e-03,\n",
       "       1.53083252e-02, 1.85068096e-03, 2.67557571e-02, 5.00376757e-03,\n",
       "       4.12577153e-03, 4.61206060e-03, 1.08965438e-03, 1.96301736e-02,\n",
       "       2.70437822e-02, 1.24232777e-02, 3.02399561e-03, 2.18312146e-02,\n",
       "       2.45650592e-03, 2.27004545e-02, 1.14946546e-02, 5.92042671e-03,\n",
       "       1.32127317e-02])"
      ]
     },
     "execution_count": 5,
     "metadata": {},
     "output_type": "execute_result"
    }
   ],
   "source": [
    "exported_pipeline.steps[-1][1].feature_importances_"
   ]
  },
  {
   "cell_type": "code",
   "execution_count": 6,
   "metadata": {},
   "outputs": [],
   "source": [
    "results = exported_pipeline.predict_proba(testing_features)"
   ]
  },
  {
   "cell_type": "code",
   "execution_count": 7,
   "metadata": {},
   "outputs": [],
   "source": [
    "feat_imp = pd.DataFrame({'feat': exported_pipeline.steps[0][1].feat_list, \n",
    "            'score': exported_pipeline.steps[-1][1].feature_importances_})"
   ]
  },
  {
   "cell_type": "code",
   "execution_count": 8,
   "metadata": {},
   "outputs": [],
   "source": [
    "feat_imp.to_csv(\"featureImp13.csv\")"
   ]
  },
  {
   "cell_type": "code",
   "execution_count": 9,
   "metadata": {},
   "outputs": [],
   "source": [
    "pd.DataFrame({'y':testing_target, 'ypred':results[:,1]}).to_csv(\"predictions13.csv\", index=False)"
   ]
  },
  {
   "cell_type": "code",
   "execution_count": 10,
   "metadata": {},
   "outputs": [
    {
     "data": {
      "text/plain": [
       "0.5883838383838383"
      ]
     },
     "execution_count": 10,
     "metadata": {},
     "output_type": "execute_result"
    }
   ],
   "source": [
    "fpr, tpr, thresholds = metrics.roc_curve(testing_target, results[:,1])\n",
    "metrics.auc(fpr, tpr)"
   ]
  }
 ],
 "metadata": {
  "kernelspec": {
   "display_name": "Python 3",
   "language": "python",
   "name": "python3"
  },
  "language_info": {
   "codemirror_mode": {
    "name": "ipython",
    "version": 3
   },
   "file_extension": ".py",
   "mimetype": "text/x-python",
   "name": "python",
   "nbconvert_exporter": "python",
   "pygments_lexer": "ipython3",
   "version": "3.6.7"
  }
 },
 "nbformat": 4,
 "nbformat_minor": 2
}
