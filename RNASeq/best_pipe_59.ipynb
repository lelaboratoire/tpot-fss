{
 "cells": [
  {
   "cell_type": "code",
   "execution_count": 1,
   "metadata": {},
   "outputs": [],
   "source": [
    "import numpy as np\n",
    "import pandas as pd\n",
    "from sklearn.ensemble import ExtraTreesClassifier\n",
    "from sklearn.model_selection import train_test_split\n",
    "from sklearn.pipeline import make_pipeline\n",
    "from tpot.builtins import DatasetSelector, OneHotEncoder\n",
    "from sklearn import metrics\n",
    "from tpot import TPOTClassifier"
   ]
  },
  {
   "cell_type": "code",
   "execution_count": 2,
   "metadata": {},
   "outputs": [],
   "source": [
    "# NOTE: Make sure that the class is labeled 'target' in the data file\n",
    "# tpot_data = pd.read_csv('PATH/TO/DATA/FILE', sep='COLUMN_SEPARATOR', dtype=np.float64)\n",
    "tpot_data = pd.read_csv('rnaSeqMDD.csv', index_col=0, header=0)\n",
    "tpot_data = tpot_data.astype(np.float64)\n",
    "features = tpot_data.drop('phenotype', axis=1)\n",
    "training_features, testing_features, training_target, testing_target = \\\n",
    "            train_test_split(features, tpot_data['phenotype'], random_state=1618)\n",
    "\n",
    "# Average CV score on the training set was:0.7259130434782609\n",
    "exported_pipeline = make_pipeline(\n",
    "    DatasetSelector(sel_subset=12, subset_list=\"module23.csv\"),\n",
    "    OneHotEncoder(minimum_fraction=0.1, sparse=False, threshold=10),\n",
    "    ExtraTreesClassifier(bootstrap=False, criterion=\"entropy\", max_features=0.05, \n",
    "                         min_samples_leaf=8, min_samples_split=8, n_estimators=100)\n",
    ")"
   ]
  },
  {
   "cell_type": "code",
   "execution_count": 3,
   "metadata": {
    "scrolled": true
   },
   "outputs": [
    {
     "data": {
      "text/plain": [
       "Pipeline(memory=None,\n",
       "     steps=[('datasetselector', DatasetSelector(sel_subset=12, subset_list='module23.csv')), ('onehotencoder', OneHotEncoder(categorical_features=[False, False, False, False, False, False, False, False, False, False, False, False, False, False, False, False, False, False, False, False, False, False, Fals...tors=100, n_jobs=None,\n",
       "           oob_score=False, random_state=1618, verbose=0, warm_start=False))])"
      ]
     },
     "execution_count": 3,
     "metadata": {},
     "output_type": "execute_result"
    }
   ],
   "source": [
    "tpot_obj= TPOTClassifier()\n",
    "tpot_obj._set_param_recursive(exported_pipeline.steps, 'random_state', 1618)\n",
    "exported_pipeline.fit(training_features, training_target)"
   ]
  },
  {
   "cell_type": "code",
   "execution_count": 4,
   "metadata": {},
   "outputs": [
    {
     "data": {
      "text/plain": [
       "0.6212121212121212"
      ]
     },
     "execution_count": 4,
     "metadata": {},
     "output_type": "execute_result"
    }
   ],
   "source": [
    "results = exported_pipeline.predict_proba(testing_features)\n",
    "feat_imp = pd.DataFrame({'feat': exported_pipeline.steps[0][1].feat_list, \n",
    "            'score': exported_pipeline.steps[-1][1].feature_importances_})\n",
    "\n",
    "feat_imp.to_csv(\"featureImp13.csv\")\n",
    "\n",
    "pd.DataFrame({'y':testing_target, 'ypred':results[:,1]}).to_csv(\"predictions13.csv\", index=False)\n",
    "\n",
    "fpr, tpr, thresholds = metrics.roc_curve(testing_target, results[:,1])\n",
    "metrics.auc(fpr, tpr)"
   ]
  }
 ],
 "metadata": {
  "kernelspec": {
   "display_name": "Python 3",
   "language": "python",
   "name": "python3"
  },
  "language_info": {
   "codemirror_mode": {
    "name": "ipython",
    "version": 3
   },
   "file_extension": ".py",
   "mimetype": "text/x-python",
   "name": "python",
   "nbconvert_exporter": "python",
   "pygments_lexer": "ipython3",
   "version": "3.6.7"
  }
 },
 "nbformat": 4,
 "nbformat_minor": 2
}
