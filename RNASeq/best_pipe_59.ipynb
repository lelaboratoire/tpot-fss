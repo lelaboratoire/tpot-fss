{
 "cells": [
  {
   "cell_type": "code",
   "execution_count": 1,
   "metadata": {},
   "outputs": [],
   "source": [
    "import numpy as np\n",
    "import pandas as pd\n",
    "from sklearn.ensemble import ExtraTreesClassifier\n",
    "from sklearn.model_selection import train_test_split\n",
    "from sklearn.pipeline import make_pipeline\n",
    "from tpot.builtins import DatasetSelector, OneHotEncoder\n",
    "from sklearn import metrics"
   ]
  },
  {
   "cell_type": "code",
   "execution_count": 2,
   "metadata": {},
   "outputs": [],
   "source": [
    "# NOTE: Make sure that the class is labeled 'target' in the data file\n",
    "# tpot_data = pd.read_csv('PATH/TO/DATA/FILE', sep='COLUMN_SEPARATOR', dtype=np.float64)\n",
    "tpot_data = pd.read_csv('rnaSeqMDD.csv', index_col=0, header=0)\n",
    "tpot_data =tpot_data.astype(np.float64)\n",
    "features = tpot_data.drop('phenotype', axis=1)\n",
    "training_features, testing_features, training_target, testing_target = \\\n",
    "            train_test_split(features, tpot_data['phenotype'], random_state=1618)\n",
    "\n",
    "# Average CV score on the training set was:0.7259130434782609\n",
    "exported_pipeline = make_pipeline(\n",
    "    DatasetSelector(sel_subset=12, subset_list=\"module23.csv\"),\n",
    "    OneHotEncoder(minimum_fraction=0.1, sparse=False, threshold=10),\n",
    "    ExtraTreesClassifier(bootstrap=False, criterion=\"entropy\", max_features=0.05, min_samples_leaf=8, min_samples_split=8, n_estimators=100)\n",
    ")"
   ]
  },
  {
   "cell_type": "code",
   "execution_count": 3,
   "metadata": {
    "scrolled": true
   },
   "outputs": [
    {
     "data": {
      "text/plain": [
       "Pipeline(memory=None,\n",
       "     steps=[('datasetselector', DatasetSelector(sel_subset=12, subset_list='module23.csv')), ('onehotencoder', OneHotEncoder(categorical_features=[False, False, False, False, False, False, False, False, False, False, False, False, False, False, False, False, False, False, False, False, False, False, Fals...imators=100, n_jobs=1,\n",
       "           oob_score=False, random_state=None, verbose=0, warm_start=False))])"
      ]
     },
     "execution_count": 3,
     "metadata": {},
     "output_type": "execute_result"
    }
   ],
   "source": [
    "exported_pipeline.fit(training_features, training_target)"
   ]
  },
  {
   "cell_type": "code",
   "execution_count": 4,
   "metadata": {},
   "outputs": [
    {
     "name": "stdout",
     "output_type": "stream",
     "text": [
      "['LSR', 'TSSK4', 'PRR3', 'SNX22', 'MRPS7', 'ZNF24', 'TEAD2', 'CLECL1', 'VTN', 'PPAPDC1B', 'MIR497HG', 'SYTL1', 'BCL9', 'RGL4', 'GDF9', 'RDH13', 'LOC101929010', 'ZNF397', 'PAXBP1', 'DOPEY1', 'TOMM70A', 'DISP2', 'FBXL16', 'KCNT1', 'THBS4', 'MICAL1', 'CISD2', 'SRPK3', 'NSUN5P2', 'PROC', 'SIK2', 'UBE2D4', 'WDR5B', 'CCDC28B', 'PLXNC1', 'TBC1D10C', 'TSSK3', 'LOC100132356', 'TMPRSS6', 'FNDC9', 'LCAT', 'PCDH12', 'GPT', 'ARPC3', 'MXRA8', 'GFM2', 'FARP2', 'PEX5L', 'LRRC8B', 'MIR1282', 'NOP16', 'LRP2BP', 'RHOF', 'EIF4ENIF1', 'PFKP', 'IQCC', 'NUTM2G', 'KCNH3', 'MYRIP', 'PDZK1', 'SEMA6A', 'CROCCP3', 'SLFNL1', 'VPS52', 'WHSC1L1', 'SLC1A4', 'ZNF154', 'MTHFD2', 'SCN8A', 'C15orf40', 'SLC24A1', 'COA7', 'SPTBN2', 'NAALAD2', 'CASP8', 'NCOR1', 'CEMIP', 'BAP1', 'RPS6KA2', 'SLC34A3', 'SNX11', 'PLCE1', 'CASKIN1', 'TIMM17B', 'FAM86A', 'EML5', 'PAPSS2', 'NUP188', 'ZNF233', 'ABTB2', 'ZBED4', 'CABP7', 'LOC101927211', 'SNED1', 'SSBP3', 'ORM2', 'DDX58', 'LOC101928943', 'RNF167', 'FUCA2', 'BORA', 'JPH3', 'FAR2', 'LOC100506469', 'TOMM34', 'LOC100506083', 'LOC100996251', 'ERMAP', 'RNASEH2C', 'SH3BP5', 'ZHX3', 'DPY19L2P2', 'LRRN2', 'PRH2', 'METTL12', 'TRIM17', 'RAD9A', 'ACAT1', 'PPP1R16A', 'FAM193B', 'H1FNT', 'ZNF213', 'PODXL', 'TUB', 'BYSL', 'FMNL2', 'DGKQ', 'TRAF3IP2', 'NIF3L1']\n"
     ]
    }
   ],
   "source": [
    "print(exported_pipeline.steps[0][1].feat_list)"
   ]
  },
  {
   "cell_type": "code",
   "execution_count": 5,
   "metadata": {
    "scrolled": false
   },
   "outputs": [
    {
     "data": {
      "text/plain": [
       "array([0.00738432, 0.0048871 , 0.00450648, 0.00555164, 0.00341666,\n",
       "       0.00184246, 0.00386489, 0.00258396, 0.00165217, 0.00029053,\n",
       "       0.00933002, 0.00171829, 0.00853102, 0.01280829, 0.00933864,\n",
       "       0.00518477, 0.00470579, 0.004309  , 0.00735147, 0.0034345 ,\n",
       "       0.00610977, 0.02464003, 0.00489563, 0.01051103, 0.00347736,\n",
       "       0.00094209, 0.00840397, 0.00818802, 0.00398917, 0.00560028,\n",
       "       0.0154187 , 0.00296717, 0.01590904, 0.00645005, 0.00917275,\n",
       "       0.01598655, 0.02202255, 0.00362537, 0.00603207, 0.00882028,\n",
       "       0.01383739, 0.00488203, 0.02364595, 0.00195361, 0.01884132,\n",
       "       0.00880938, 0.00461281, 0.00378467, 0.00126554, 0.00558512,\n",
       "       0.03908593, 0.00093542, 0.00786287, 0.00253368, 0.00656192,\n",
       "       0.00266874, 0.01922   , 0.00476643, 0.00060716, 0.00602495,\n",
       "       0.01001444, 0.00480421, 0.00891672, 0.00792756, 0.01580901,\n",
       "       0.00317605, 0.01783115, 0.00608553, 0.02207125, 0.00870516,\n",
       "       0.00469621, 0.00371708, 0.01506411, 0.00296731, 0.00783635,\n",
       "       0.01038509, 0.00288031, 0.00095358, 0.01126605, 0.01503917,\n",
       "       0.00857315, 0.00184626, 0.00103975, 0.0024129 , 0.00351419,\n",
       "       0.00557836, 0.01130696, 0.00614815, 0.00550426, 0.0008861 ,\n",
       "       0.0022159 , 0.00719318, 0.00414606, 0.0083955 , 0.00612049,\n",
       "       0.01938549, 0.00657919, 0.00610343, 0.02541801, 0.00283377,\n",
       "       0.00158818, 0.00392903, 0.01123112, 0.01313281, 0.00203723,\n",
       "       0.00503635, 0.00690379, 0.00560162, 0.00213199, 0.01055178,\n",
       "       0.00167701, 0.00391111, 0.01255299, 0.0072844 , 0.00417057,\n",
       "       0.01454244, 0.00884447, 0.00367984, 0.01922417, 0.00383204,\n",
       "       0.00293686, 0.02282687, 0.00143455, 0.00801236, 0.00786333,\n",
       "       0.00726356, 0.01880533, 0.009542  , 0.00076597])"
      ]
     },
     "execution_count": 5,
     "metadata": {},
     "output_type": "execute_result"
    }
   ],
   "source": [
    "exported_pipeline.steps[-1][1].feature_importances_"
   ]
  },
  {
   "cell_type": "code",
   "execution_count": 6,
   "metadata": {},
   "outputs": [],
   "source": [
    "results = exported_pipeline.predict_proba(testing_features)"
   ]
  },
  {
   "cell_type": "code",
   "execution_count": 7,
   "metadata": {},
   "outputs": [],
   "source": [
    "feat_imp = pd.DataFrame({'feat': exported_pipeline.steps[0][1].feat_list, \n",
    "            'score': exported_pipeline.steps[-1][1].feature_importances_})"
   ]
  },
  {
   "cell_type": "code",
   "execution_count": 8,
   "metadata": {},
   "outputs": [],
   "source": [
    "feat_imp.to_csv(\"featureImp13.csv\")"
   ]
  },
  {
   "cell_type": "code",
   "execution_count": 9,
   "metadata": {},
   "outputs": [],
   "source": [
    "pd.DataFrame({'y':testing_target, 'ypred':results[:,1]}).to_csv(\"predictions13.csv\", index=False)"
   ]
  },
  {
   "cell_type": "code",
   "execution_count": 10,
   "metadata": {},
   "outputs": [
    {
     "data": {
      "text/plain": [
       "0.6313131313131314"
      ]
     },
     "execution_count": 10,
     "metadata": {},
     "output_type": "execute_result"
    }
   ],
   "source": [
    "fpr, tpr, thresholds = metrics.roc_curve(testing_target, results[:,1])\n",
    "metrics.auc(fpr, tpr)"
   ]
  }
 ],
 "metadata": {
  "kernelspec": {
   "display_name": "Python 3",
   "language": "python",
   "name": "python3"
  },
  "language_info": {
   "codemirror_mode": {
    "name": "ipython",
    "version": 3
   },
   "file_extension": ".py",
   "mimetype": "text/x-python",
   "name": "python",
   "nbconvert_exporter": "python",
   "pygments_lexer": "ipython3",
   "version": "3.6.5"
  }
 },
 "nbformat": 4,
 "nbformat_minor": 2
}
