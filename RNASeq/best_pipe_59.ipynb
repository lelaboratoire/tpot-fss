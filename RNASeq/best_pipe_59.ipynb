{
 "cells": [
  {
   "cell_type": "code",
   "execution_count": 1,
   "metadata": {},
   "outputs": [],
   "source": [
    "import numpy as np\n",
    "import pandas as pd\n",
    "from sklearn.ensemble import ExtraTreesClassifier\n",
    "from sklearn.model_selection import train_test_split\n",
    "from sklearn.pipeline import make_pipeline\n",
    "from tpot.builtins import DatasetSelector, OneHotEncoder"
   ]
  },
  {
   "cell_type": "code",
   "execution_count": 2,
   "metadata": {},
   "outputs": [],
   "source": [
    "# NOTE: Make sure that the class is labeled 'target' in the data file\n",
    "# tpot_data = pd.read_csv('PATH/TO/DATA/FILE', sep='COLUMN_SEPARATOR', dtype=np.float64)\n",
    "tpot_data = pd.read_csv('rnaSeqMDD.csv', index_col=0, header=0)\n",
    "tpot_data =tpot_data.astype(np.float64)\n",
    "features = tpot_data.drop('phenotype', axis=1)\n",
    "training_features, testing_features, training_target, testing_target = \\\n",
    "            train_test_split(features, tpot_data['phenotype'], random_state=161803)\n",
    "\n",
    "# Average CV score on the training set was:0.7259130434782609\n",
    "exported_pipeline = make_pipeline(\n",
    "    DatasetSelector(sel_subset=12, subset_list=\"module23.csv\"),\n",
    "    OneHotEncoder(minimum_fraction=0.1, sparse=False, threshold=10),\n",
    "    ExtraTreesClassifier(bootstrap=False, criterion=\"entropy\", max_features=0.05, min_samples_leaf=8, min_samples_split=8, n_estimators=100)\n",
    ")"
   ]
  },
  {
   "cell_type": "code",
   "execution_count": 3,
   "metadata": {
    "scrolled": true
   },
   "outputs": [
    {
     "data": {
      "text/plain": [
       "Pipeline(memory=None,\n",
       "     steps=[('datasetselector', DatasetSelector(sel_subset=12, subset_list='module23.csv')), ('onehotencoder', OneHotEncoder(categorical_features=[False, False, False, False, False, False, False, False, False, False, False, False, False, False, False, False, False, False, False, False, False, False, Fals...imators=100, n_jobs=1,\n",
       "           oob_score=False, random_state=None, verbose=0, warm_start=False))])"
      ]
     },
     "execution_count": 3,
     "metadata": {},
     "output_type": "execute_result"
    }
   ],
   "source": [
    "exported_pipeline.fit(training_features, training_target)"
   ]
  },
  {
   "cell_type": "code",
   "execution_count": 4,
   "metadata": {},
   "outputs": [
    {
     "name": "stdout",
     "output_type": "stream",
     "text": [
      "['PAXBP1', 'IQCC', 'NUP188', 'LRP2BP', 'PLCE1', 'RDH13', 'FNDC9', 'BAP1', 'RNF167', 'TRIM17', 'KCNH3', 'DDX58', 'FARP2', 'PLXNC1', 'LOC100132356', 'UBE2D4', 'BORA', 'BCL9', 'TSSK4', 'SPTBN2', 'DOPEY1', 'FAR2', 'TSSK3', 'EML5', 'SRPK3', 'PAPSS2', 'FMNL2', 'RAD9A', 'MYRIP', 'KCNT1', 'CEMIP', 'BYSL', 'LRRC8B', 'ZNF233', 'ZHX3', 'SEMA6A', 'LCAT', 'MTHFD2', 'WHSC1L1', 'LRRN2', 'SCN8A', 'LOC100996251', 'FAM193B', 'PCDH12', 'TOMM34', 'TEAD2', 'NOP16', 'VTN', 'CASP8', 'MICAL1', 'TOMM70A', 'RNASEH2C', 'LOC100506469', 'CCDC28B', 'GPT', 'NIF3L1', 'WDR5B', 'METTL12', 'FBXL16', 'MIR1282', 'GFM2', 'FUCA2', 'SYTL1', 'RHOF', 'TIMM17B', 'TUB', 'TBC1D10C', 'PEX5L', 'JPH3', 'SSBP3', 'SLC24A1', 'DGKQ', 'DPY19L2P2', 'NAALAD2', 'VPS52', 'TRAF3IP2', 'SNX22', 'CASKIN1', 'ORM2', 'PODXL', 'PPP1R16A', 'NCOR1', 'CROCCP3', 'EIF4ENIF1', 'PPAPDC1B', 'CISD2', 'H1FNT', 'SNX11', 'COA7', 'LOC101928943', 'SLFNL1', 'RPS6KA2', 'LOC101927211', 'MRPS7', 'SIK2', 'ZNF397', 'ARPC3', 'MXRA8', 'PRR3', 'C15orf40', 'ZNF213', 'ACAT1', 'PRH2', 'ZNF154', 'PROC', 'NUTM2G', 'ZNF24', 'LOC100506083', 'PFKP', 'LOC101929010', 'MIR497HG', 'SLC1A4', 'PDZK1', 'ERMAP', 'FAM86A', 'TMPRSS6', 'SLC34A3', 'SH3BP5', 'LSR', 'NSUN5P2', 'THBS4', 'RGL4', 'ABTB2', 'CLECL1', 'ZBED4', 'CABP7', 'SNED1', 'GDF9', 'DISP2']\n"
     ]
    }
   ],
   "source": [
    "print(exported_pipeline.steps[0][1].feat_list)"
   ]
  },
  {
   "cell_type": "code",
   "execution_count": 5,
   "metadata": {
    "scrolled": false
   },
   "outputs": [
    {
     "data": {
      "text/plain": [
       "array([0.01635466, 0.01319688, 0.00471392, 0.00065353, 0.00043133,\n",
       "       0.0033827 , 0.00784433, 0.00601431, 0.01702124, 0.00348735,\n",
       "       0.00725501, 0.01249049, 0.00509962, 0.01939634, 0.00248395,\n",
       "       0.0052077 , 0.00380103, 0.00536525, 0.00391898, 0.00366037,\n",
       "       0.00243446, 0.00220728, 0.01775068, 0.00214831, 0.0032709 ,\n",
       "       0.01073433, 0.00698201, 0.00285576, 0.00210634, 0.00584499,\n",
       "       0.01402457, 0.00619465, 0.00134987, 0.00393446, 0.00411075,\n",
       "       0.01982223, 0.01413088, 0.00290513, 0.00278306, 0.01974749,\n",
       "       0.008806  , 0.000195  , 0.00144436, 0.00182034, 0.00091571,\n",
       "       0.00619909, 0.01520571, 0.00500785, 0.00210366, 0.00061228,\n",
       "       0.00220086, 0.00401822, 0.01168023, 0.00618071, 0.00807882,\n",
       "       0.00405305, 0.01341466, 0.00417444, 0.00202111, 0.00328019,\n",
       "       0.00223049, 0.00191604, 0.00067592, 0.0109131 , 0.00341344,\n",
       "       0.00800704, 0.0114696 , 0.00365332, 0.00721481, 0.00104428,\n",
       "       0.00436513, 0.00362481, 0.0043322 , 0.00100215, 0.00742878,\n",
       "       0.00727836, 0.00543832, 0.0159122 , 0.01790761, 0.00695372,\n",
       "       0.02546805, 0.00562256, 0.00951629, 0.00220095, 0.00193279,\n",
       "       0.0070246 , 0.00218912, 0.00285654, 0.00822803, 0.01325112,\n",
       "       0.03543726, 0.00966307, 0.01925303, 0.00701837, 0.01200089,\n",
       "       0.00558462, 0.00367549, 0.01998976, 0.00561319, 0.01113122,\n",
       "       0.00509327, 0.00098164, 0.02167313, 0.00517763, 0.00769957,\n",
       "       0.00328595, 0.00685638, 0.01390282, 0.00547061, 0.01201654,\n",
       "       0.00679795, 0.00423779, 0.00051122, 0.00477112, 0.00663576,\n",
       "       0.0025563 , 0.00807805, 0.01426017, 0.01269154, 0.00983912,\n",
       "       0.02367492, 0.03969503, 0.00522752, 0.00269595, 0.00246098,\n",
       "       0.00927087, 0.0016402 , 0.00888034, 0.01294995])"
      ]
     },
     "execution_count": 5,
     "metadata": {},
     "output_type": "execute_result"
    }
   ],
   "source": [
    "exported_pipeline.steps[-1][1].feature_importances_"
   ]
  },
  {
   "cell_type": "code",
   "execution_count": 6,
   "metadata": {},
   "outputs": [],
   "source": [
    "results = exported_pipeline.predict(testing_features)"
   ]
  },
  {
   "cell_type": "code",
   "execution_count": 8,
   "metadata": {},
   "outputs": [],
   "source": [
    "feat_imp = pd.DataFrame({'feat': exported_pipeline.steps[0][1].feat_list, \n",
    "            'score': exported_pipeline.steps[-1][1].feature_importances_})"
   ]
  },
  {
   "cell_type": "code",
   "execution_count": 9,
   "metadata": {},
   "outputs": [],
   "source": [
    "feat_imp.to_csv(\"featureImp12.csv\")"
   ]
  }
 ],
 "metadata": {
  "kernelspec": {
   "display_name": "Python 3",
   "language": "python",
   "name": "python3"
  },
  "language_info": {
   "codemirror_mode": {
    "name": "ipython",
    "version": 3
   },
   "file_extension": ".py",
   "mimetype": "text/x-python",
   "name": "python",
   "nbconvert_exporter": "python",
   "pygments_lexer": "ipython3",
   "version": "3.6.5"
  }
 },
 "nbformat": 4,
 "nbformat_minor": 2
}
